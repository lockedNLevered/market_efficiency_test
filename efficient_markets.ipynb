{
 "cells": [
  {
   "cell_type": "markdown",
   "metadata": {},
   "source": [
    "Hypothesis: Stocks follow a random walk. The price movement of a stock today has no statistically significant predicitve power in determing its price tomorrow"
   ]
  },
  {
   "cell_type": "code",
   "execution_count": 203,
   "metadata": {},
   "outputs": [],
   "source": [
    "import pandas as pd\n",
    "from pandas.plotting import autocorrelation_plot\n",
    "import numpy as np\n",
    "import seaborn as sns\n",
    "import matplotlib.pyplot as plt\n",
    "from bokeh.plotting import figure, output_file, show\n",
    "from bokeh.models import ColumnDataSource\n",
    "from bokeh.palettes import Spectral3"
   ]
  },
  {
   "cell_type": "markdown",
   "metadata": {},
   "source": [
    "Tesla Stock Analysis"
   ]
  },
  {
   "cell_type": "code",
   "execution_count": 159,
   "metadata": {},
   "outputs": [],
   "source": [
    "tesla = pd.read_csv('TSLA.csv')"
   ]
  },
  {
   "cell_type": "code",
   "execution_count": 160,
   "metadata": {},
   "outputs": [
    {
     "data": {
      "text/html": [
       "<div>\n",
       "<style scoped>\n",
       "    .dataframe tbody tr th:only-of-type {\n",
       "        vertical-align: middle;\n",
       "    }\n",
       "\n",
       "    .dataframe tbody tr th {\n",
       "        vertical-align: top;\n",
       "    }\n",
       "\n",
       "    .dataframe thead th {\n",
       "        text-align: right;\n",
       "    }\n",
       "</style>\n",
       "<table border=\"1\" class=\"dataframe\">\n",
       "  <thead>\n",
       "    <tr style=\"text-align: right;\">\n",
       "      <th></th>\n",
       "      <th>Open</th>\n",
       "      <th>High</th>\n",
       "      <th>Low</th>\n",
       "      <th>Close</th>\n",
       "      <th>Adj Close</th>\n",
       "      <th>Volume</th>\n",
       "    </tr>\n",
       "  </thead>\n",
       "  <tbody>\n",
       "    <tr>\n",
       "      <th>count</th>\n",
       "      <td>2416.000000</td>\n",
       "      <td>2416.000000</td>\n",
       "      <td>2416.000000</td>\n",
       "      <td>2416.000000</td>\n",
       "      <td>2416.000000</td>\n",
       "      <td>2.416000e+03</td>\n",
       "    </tr>\n",
       "    <tr>\n",
       "      <th>mean</th>\n",
       "      <td>186.271147</td>\n",
       "      <td>189.578224</td>\n",
       "      <td>182.916639</td>\n",
       "      <td>186.403651</td>\n",
       "      <td>186.403651</td>\n",
       "      <td>5.572722e+06</td>\n",
       "    </tr>\n",
       "    <tr>\n",
       "      <th>std</th>\n",
       "      <td>118.740163</td>\n",
       "      <td>120.892329</td>\n",
       "      <td>116.857591</td>\n",
       "      <td>119.136020</td>\n",
       "      <td>119.136020</td>\n",
       "      <td>4.987809e+06</td>\n",
       "    </tr>\n",
       "    <tr>\n",
       "      <th>min</th>\n",
       "      <td>16.139999</td>\n",
       "      <td>16.629999</td>\n",
       "      <td>14.980000</td>\n",
       "      <td>15.800000</td>\n",
       "      <td>15.800000</td>\n",
       "      <td>1.185000e+05</td>\n",
       "    </tr>\n",
       "    <tr>\n",
       "      <th>25%</th>\n",
       "      <td>34.342498</td>\n",
       "      <td>34.897501</td>\n",
       "      <td>33.587501</td>\n",
       "      <td>34.400002</td>\n",
       "      <td>34.400002</td>\n",
       "      <td>1.899275e+06</td>\n",
       "    </tr>\n",
       "    <tr>\n",
       "      <th>50%</th>\n",
       "      <td>213.035003</td>\n",
       "      <td>216.745002</td>\n",
       "      <td>208.870002</td>\n",
       "      <td>212.960007</td>\n",
       "      <td>212.960007</td>\n",
       "      <td>4.578400e+06</td>\n",
       "    </tr>\n",
       "    <tr>\n",
       "      <th>75%</th>\n",
       "      <td>266.450012</td>\n",
       "      <td>270.927513</td>\n",
       "      <td>262.102501</td>\n",
       "      <td>266.774994</td>\n",
       "      <td>266.774994</td>\n",
       "      <td>7.361150e+06</td>\n",
       "    </tr>\n",
       "    <tr>\n",
       "      <th>max</th>\n",
       "      <td>673.690002</td>\n",
       "      <td>786.140015</td>\n",
       "      <td>673.520020</td>\n",
       "      <td>780.000000</td>\n",
       "      <td>780.000000</td>\n",
       "      <td>4.706500e+07</td>\n",
       "    </tr>\n",
       "  </tbody>\n",
       "</table>\n",
       "</div>"
      ],
      "text/plain": [
       "              Open         High          Low        Close    Adj Close  \\\n",
       "count  2416.000000  2416.000000  2416.000000  2416.000000  2416.000000   \n",
       "mean    186.271147   189.578224   182.916639   186.403651   186.403651   \n",
       "std     118.740163   120.892329   116.857591   119.136020   119.136020   \n",
       "min      16.139999    16.629999    14.980000    15.800000    15.800000   \n",
       "25%      34.342498    34.897501    33.587501    34.400002    34.400002   \n",
       "50%     213.035003   216.745002   208.870002   212.960007   212.960007   \n",
       "75%     266.450012   270.927513   262.102501   266.774994   266.774994   \n",
       "max     673.690002   786.140015   673.520020   780.000000   780.000000   \n",
       "\n",
       "             Volume  \n",
       "count  2.416000e+03  \n",
       "mean   5.572722e+06  \n",
       "std    4.987809e+06  \n",
       "min    1.185000e+05  \n",
       "25%    1.899275e+06  \n",
       "50%    4.578400e+06  \n",
       "75%    7.361150e+06  \n",
       "max    4.706500e+07  "
      ]
     },
     "execution_count": 160,
     "metadata": {},
     "output_type": "execute_result"
    }
   ],
   "source": [
    "tesla.describe()"
   ]
  },
  {
   "cell_type": "code",
   "execution_count": 161,
   "metadata": {},
   "outputs": [
    {
     "data": {
      "text/plain": [
       "Date         0\n",
       "Open         0\n",
       "High         0\n",
       "Low          0\n",
       "Close        0\n",
       "Adj Close    0\n",
       "Volume       0\n",
       "dtype: int64"
      ]
     },
     "execution_count": 161,
     "metadata": {},
     "output_type": "execute_result"
    }
   ],
   "source": [
    "tesla.isna().sum()"
   ]
  },
  {
   "cell_type": "code",
   "execution_count": 172,
   "metadata": {},
   "outputs": [],
   "source": [
    "tesla['Change in price'] = tesla['Close'] - tesla['Close'].shift(-1)"
   ]
  },
  {
   "cell_type": "code",
   "execution_count": 173,
   "metadata": {},
   "outputs": [
    {
     "data": {
      "text/html": [
       "<div>\n",
       "<style scoped>\n",
       "    .dataframe tbody tr th:only-of-type {\n",
       "        vertical-align: middle;\n",
       "    }\n",
       "\n",
       "    .dataframe tbody tr th {\n",
       "        vertical-align: top;\n",
       "    }\n",
       "\n",
       "    .dataframe thead th {\n",
       "        text-align: right;\n",
       "    }\n",
       "</style>\n",
       "<table border=\"1\" class=\"dataframe\">\n",
       "  <thead>\n",
       "    <tr style=\"text-align: right;\">\n",
       "      <th></th>\n",
       "      <th>Date</th>\n",
       "      <th>Open</th>\n",
       "      <th>High</th>\n",
       "      <th>Low</th>\n",
       "      <th>Close</th>\n",
       "      <th>Adj Close</th>\n",
       "      <th>Volume</th>\n",
       "      <th>Change in price</th>\n",
       "    </tr>\n",
       "  </thead>\n",
       "  <tbody>\n",
       "    <tr>\n",
       "      <th>0</th>\n",
       "      <td>2010-06-29</td>\n",
       "      <td>19.000000</td>\n",
       "      <td>25.000000</td>\n",
       "      <td>17.540001</td>\n",
       "      <td>23.889999</td>\n",
       "      <td>23.889999</td>\n",
       "      <td>18766300</td>\n",
       "      <td>0.059999</td>\n",
       "    </tr>\n",
       "    <tr>\n",
       "      <th>1</th>\n",
       "      <td>2010-06-30</td>\n",
       "      <td>25.790001</td>\n",
       "      <td>30.420000</td>\n",
       "      <td>23.299999</td>\n",
       "      <td>23.830000</td>\n",
       "      <td>23.830000</td>\n",
       "      <td>17187100</td>\n",
       "      <td>1.870001</td>\n",
       "    </tr>\n",
       "    <tr>\n",
       "      <th>2</th>\n",
       "      <td>2010-07-01</td>\n",
       "      <td>25.000000</td>\n",
       "      <td>25.920000</td>\n",
       "      <td>20.270000</td>\n",
       "      <td>21.959999</td>\n",
       "      <td>21.959999</td>\n",
       "      <td>8218800</td>\n",
       "      <td>2.759998</td>\n",
       "    </tr>\n",
       "    <tr>\n",
       "      <th>3</th>\n",
       "      <td>2010-07-02</td>\n",
       "      <td>23.000000</td>\n",
       "      <td>23.100000</td>\n",
       "      <td>18.709999</td>\n",
       "      <td>19.200001</td>\n",
       "      <td>19.200001</td>\n",
       "      <td>5139800</td>\n",
       "      <td>3.090000</td>\n",
       "    </tr>\n",
       "    <tr>\n",
       "      <th>4</th>\n",
       "      <td>2010-07-06</td>\n",
       "      <td>20.000000</td>\n",
       "      <td>20.000000</td>\n",
       "      <td>15.830000</td>\n",
       "      <td>16.110001</td>\n",
       "      <td>16.110001</td>\n",
       "      <td>6866900</td>\n",
       "      <td>0.310001</td>\n",
       "    </tr>\n",
       "    <tr>\n",
       "      <th>5</th>\n",
       "      <td>2010-07-07</td>\n",
       "      <td>16.400000</td>\n",
       "      <td>16.629999</td>\n",
       "      <td>14.980000</td>\n",
       "      <td>15.800000</td>\n",
       "      <td>15.800000</td>\n",
       "      <td>6921700</td>\n",
       "      <td>-1.659999</td>\n",
       "    </tr>\n",
       "    <tr>\n",
       "      <th>6</th>\n",
       "      <td>2010-07-08</td>\n",
       "      <td>16.139999</td>\n",
       "      <td>17.520000</td>\n",
       "      <td>15.570000</td>\n",
       "      <td>17.459999</td>\n",
       "      <td>17.459999</td>\n",
       "      <td>7711400</td>\n",
       "      <td>0.059999</td>\n",
       "    </tr>\n",
       "    <tr>\n",
       "      <th>7</th>\n",
       "      <td>2010-07-09</td>\n",
       "      <td>17.580000</td>\n",
       "      <td>17.900000</td>\n",
       "      <td>16.549999</td>\n",
       "      <td>17.400000</td>\n",
       "      <td>17.400000</td>\n",
       "      <td>4050600</td>\n",
       "      <td>0.350001</td>\n",
       "    </tr>\n",
       "    <tr>\n",
       "      <th>8</th>\n",
       "      <td>2010-07-12</td>\n",
       "      <td>17.950001</td>\n",
       "      <td>18.070000</td>\n",
       "      <td>17.000000</td>\n",
       "      <td>17.049999</td>\n",
       "      <td>17.049999</td>\n",
       "      <td>2202500</td>\n",
       "      <td>-1.090000</td>\n",
       "    </tr>\n",
       "    <tr>\n",
       "      <th>9</th>\n",
       "      <td>2010-07-13</td>\n",
       "      <td>17.389999</td>\n",
       "      <td>18.639999</td>\n",
       "      <td>16.900000</td>\n",
       "      <td>18.139999</td>\n",
       "      <td>18.139999</td>\n",
       "      <td>2680100</td>\n",
       "      <td>-1.700001</td>\n",
       "    </tr>\n",
       "  </tbody>\n",
       "</table>\n",
       "</div>"
      ],
      "text/plain": [
       "         Date       Open       High        Low      Close  Adj Close  \\\n",
       "0  2010-06-29  19.000000  25.000000  17.540001  23.889999  23.889999   \n",
       "1  2010-06-30  25.790001  30.420000  23.299999  23.830000  23.830000   \n",
       "2  2010-07-01  25.000000  25.920000  20.270000  21.959999  21.959999   \n",
       "3  2010-07-02  23.000000  23.100000  18.709999  19.200001  19.200001   \n",
       "4  2010-07-06  20.000000  20.000000  15.830000  16.110001  16.110001   \n",
       "5  2010-07-07  16.400000  16.629999  14.980000  15.800000  15.800000   \n",
       "6  2010-07-08  16.139999  17.520000  15.570000  17.459999  17.459999   \n",
       "7  2010-07-09  17.580000  17.900000  16.549999  17.400000  17.400000   \n",
       "8  2010-07-12  17.950001  18.070000  17.000000  17.049999  17.049999   \n",
       "9  2010-07-13  17.389999  18.639999  16.900000  18.139999  18.139999   \n",
       "\n",
       "     Volume  Change in price  \n",
       "0  18766300         0.059999  \n",
       "1  17187100         1.870001  \n",
       "2   8218800         2.759998  \n",
       "3   5139800         3.090000  \n",
       "4   6866900         0.310001  \n",
       "5   6921700        -1.659999  \n",
       "6   7711400         0.059999  \n",
       "7   4050600         0.350001  \n",
       "8   2202500        -1.090000  \n",
       "9   2680100        -1.700001  "
      ]
     },
     "execution_count": 173,
     "metadata": {},
     "output_type": "execute_result"
    }
   ],
   "source": [
    "tesla.head(10)"
   ]
  },
  {
   "cell_type": "code",
   "execution_count": 174,
   "metadata": {},
   "outputs": [
    {
     "data": {
      "text/plain": [
       "[<matplotlib.lines.Line2D at 0x7fd8bcd4c1d0>]"
      ]
     },
     "execution_count": 174,
     "metadata": {},
     "output_type": "execute_result"
    },
    {
     "data": {
      "image/png": "[encoded data removed]",
      "text/plain": [
       "<Figure size 432x288 with 1 Axes>"
      ]
     },
     "metadata": {
      "needs_background": "light"
     },
     "output_type": "display_data"
    }
   ],
   "source": [
    "plt.plot(tesla['Change in price'])"
   ]
  },
  {
   "cell_type": "code",
   "execution_count": 175,
   "metadata": {},
   "outputs": [],
   "source": [
    "tesla_auto_corr_close = pd.Series(tesla['Change in price'])"
   ]
  },
  {
   "cell_type": "code",
   "execution_count": 200,
   "metadata": {},
   "outputs": [
    {
     "name": "stdout",
     "output_type": "stream",
     "text": [
      "Auto correlation in price change: 0.03433701804019132\n",
      "Auto correlation in price change: 0.012212363115550665\n",
      "Auto correlation in price change: 0.039109241000423935\n",
      "Auto correlation in price change: -0.0027302116259761773\n"
     ]
    }
   ],
   "source": [
    "print(f'Auto correlation in price change: {tesla_auto_corr_close.autocorr(lag=1)}')\n",
    "print(f'Auto correlation in price change: {tesla_auto_corr_close.autocorr(lag=10)}')\n",
    "print(f'Auto correlation in price change: {tesla_auto_corr_close.autocorr(lag=30)}')\n",
    "print(f'Auto correlation in price change: {tesla_auto_corr_close.autocorr(lag=90)}')"
   ]
  },
  {
   "cell_type": "code",
   "execution_count": 169,
   "metadata": {},
   "outputs": [
    {
     "data": {
      "image/png": "[encoded data removed]",
      "text/plain": [
       "<Figure size 432x288 with 1 Axes>"
      ]
     },
     "metadata": {
      "needs_background": "light"
     },
     "output_type": "display_data"
    }
   ],
   "source": [
    "autocorrelation_plot(tesla_auto_corr_close, ax=None);"
   ]
  },
  {
   "cell_type": "markdown",
   "metadata": {},
   "source": [
    "Tesla stock price shows extremely minimal autocorrlation. "
   ]
  },
  {
   "cell_type": "markdown",
   "metadata": {},
   "source": [
    "AMD Stock Analysis"
   ]
  },
  {
   "cell_type": "code",
   "execution_count": 103,
   "metadata": {},
   "outputs": [],
   "source": [
    "amd = pd.read_csv('AMD.csv')"
   ]
  },
  {
   "cell_type": "code",
   "execution_count": 104,
   "metadata": {},
   "outputs": [
    {
     "data": {
      "text/html": [
       "<div>\n",
       "<style scoped>\n",
       "    .dataframe tbody tr th:only-of-type {\n",
       "        vertical-align: middle;\n",
       "    }\n",
       "\n",
       "    .dataframe tbody tr th {\n",
       "        vertical-align: top;\n",
       "    }\n",
       "\n",
       "    .dataframe thead th {\n",
       "        text-align: right;\n",
       "    }\n",
       "</style>\n",
       "<table border=\"1\" class=\"dataframe\">\n",
       "  <thead>\n",
       "    <tr style=\"text-align: right;\">\n",
       "      <th></th>\n",
       "      <th>Open</th>\n",
       "      <th>High</th>\n",
       "      <th>Low</th>\n",
       "      <th>Close</th>\n",
       "      <th>Adj Close</th>\n",
       "      <th>Volume</th>\n",
       "    </tr>\n",
       "  </thead>\n",
       "  <tbody>\n",
       "    <tr>\n",
       "      <th>count</th>\n",
       "      <td>2335.000000</td>\n",
       "      <td>2335.000000</td>\n",
       "      <td>2335.000000</td>\n",
       "      <td>2335.000000</td>\n",
       "      <td>2335.000000</td>\n",
       "      <td>2.335000e+03</td>\n",
       "    </tr>\n",
       "    <tr>\n",
       "      <th>mean</th>\n",
       "      <td>6.434732</td>\n",
       "      <td>6.563961</td>\n",
       "      <td>6.300887</td>\n",
       "      <td>6.433221</td>\n",
       "      <td>6.433221</td>\n",
       "      <td>3.107491e+07</td>\n",
       "    </tr>\n",
       "    <tr>\n",
       "      <th>std</th>\n",
       "      <td>3.872391</td>\n",
       "      <td>3.954999</td>\n",
       "      <td>3.792914</td>\n",
       "      <td>3.879124</td>\n",
       "      <td>3.879124</td>\n",
       "      <td>2.791149e+07</td>\n",
       "    </tr>\n",
       "    <tr>\n",
       "      <th>min</th>\n",
       "      <td>1.620000</td>\n",
       "      <td>1.690000</td>\n",
       "      <td>1.610000</td>\n",
       "      <td>1.620000</td>\n",
       "      <td>1.620000</td>\n",
       "      <td>0.000000e+00</td>\n",
       "    </tr>\n",
       "    <tr>\n",
       "      <th>25%</th>\n",
       "      <td>3.480000</td>\n",
       "      <td>3.550000</td>\n",
       "      <td>3.405000</td>\n",
       "      <td>3.465000</td>\n",
       "      <td>3.465000</td>\n",
       "      <td>1.421670e+07</td>\n",
       "    </tr>\n",
       "    <tr>\n",
       "      <th>50%</th>\n",
       "      <td>5.580000</td>\n",
       "      <td>5.720000</td>\n",
       "      <td>5.450000</td>\n",
       "      <td>5.600000</td>\n",
       "      <td>5.600000</td>\n",
       "      <td>2.228020e+07</td>\n",
       "    </tr>\n",
       "    <tr>\n",
       "      <th>75%</th>\n",
       "      <td>8.555000</td>\n",
       "      <td>8.710000</td>\n",
       "      <td>8.375000</td>\n",
       "      <td>8.565000</td>\n",
       "      <td>8.565000</td>\n",
       "      <td>3.776905e+07</td>\n",
       "    </tr>\n",
       "    <tr>\n",
       "      <th>max</th>\n",
       "      <td>25.510000</td>\n",
       "      <td>27.299999</td>\n",
       "      <td>24.629999</td>\n",
       "      <td>25.260000</td>\n",
       "      <td>25.260000</td>\n",
       "      <td>3.250584e+08</td>\n",
       "    </tr>\n",
       "  </tbody>\n",
       "</table>\n",
       "</div>"
      ],
      "text/plain": [
       "              Open         High          Low        Close    Adj Close  \\\n",
       "count  2335.000000  2335.000000  2335.000000  2335.000000  2335.000000   \n",
       "mean      6.434732     6.563961     6.300887     6.433221     6.433221   \n",
       "std       3.872391     3.954999     3.792914     3.879124     3.879124   \n",
       "min       1.620000     1.690000     1.610000     1.620000     1.620000   \n",
       "25%       3.480000     3.550000     3.405000     3.465000     3.465000   \n",
       "50%       5.580000     5.720000     5.450000     5.600000     5.600000   \n",
       "75%       8.555000     8.710000     8.375000     8.565000     8.565000   \n",
       "max      25.510000    27.299999    24.629999    25.260000    25.260000   \n",
       "\n",
       "             Volume  \n",
       "count  2.335000e+03  \n",
       "mean   3.107491e+07  \n",
       "std    2.791149e+07  \n",
       "min    0.000000e+00  \n",
       "25%    1.421670e+07  \n",
       "50%    2.228020e+07  \n",
       "75%    3.776905e+07  \n",
       "max    3.250584e+08  "
      ]
     },
     "execution_count": 104,
     "metadata": {},
     "output_type": "execute_result"
    }
   ],
   "source": [
    "amd.describe()"
   ]
  },
  {
   "cell_type": "code",
   "execution_count": 105,
   "metadata": {},
   "outputs": [
    {
     "data": {
      "text/plain": [
       "Date         0\n",
       "Open         0\n",
       "High         0\n",
       "Low          0\n",
       "Close        0\n",
       "Adj Close    0\n",
       "Volume       0\n",
       "dtype: int64"
      ]
     },
     "execution_count": 105,
     "metadata": {},
     "output_type": "execute_result"
    }
   ],
   "source": [
    "amd.isna().sum()"
   ]
  },
  {
   "cell_type": "code",
   "execution_count": 116,
   "metadata": {},
   "outputs": [
    {
     "data": {
      "text/html": [
       "<div>\n",
       "<style scoped>\n",
       "    .dataframe tbody tr th:only-of-type {\n",
       "        vertical-align: middle;\n",
       "    }\n",
       "\n",
       "    .dataframe tbody tr th {\n",
       "        vertical-align: top;\n",
       "    }\n",
       "\n",
       "    .dataframe thead th {\n",
       "        text-align: right;\n",
       "    }\n",
       "</style>\n",
       "<table border=\"1\" class=\"dataframe\">\n",
       "  <thead>\n",
       "    <tr style=\"text-align: right;\">\n",
       "      <th></th>\n",
       "      <th>Date</th>\n",
       "      <th>Open</th>\n",
       "      <th>High</th>\n",
       "      <th>Low</th>\n",
       "      <th>Close</th>\n",
       "      <th>Adj Close</th>\n",
       "      <th>Volume</th>\n",
       "    </tr>\n",
       "  </thead>\n",
       "  <tbody>\n",
       "    <tr>\n",
       "      <th>0</th>\n",
       "      <td>2009-05-22</td>\n",
       "      <td>4.43</td>\n",
       "      <td>4.43</td>\n",
       "      <td>4.25</td>\n",
       "      <td>4.26</td>\n",
       "      <td>4.26</td>\n",
       "      <td>8274300</td>\n",
       "    </tr>\n",
       "    <tr>\n",
       "      <th>1</th>\n",
       "      <td>2009-05-26</td>\n",
       "      <td>4.26</td>\n",
       "      <td>4.57</td>\n",
       "      <td>4.23</td>\n",
       "      <td>4.53</td>\n",
       "      <td>4.53</td>\n",
       "      <td>16094300</td>\n",
       "    </tr>\n",
       "    <tr>\n",
       "      <th>2</th>\n",
       "      <td>2009-05-27</td>\n",
       "      <td>4.57</td>\n",
       "      <td>4.80</td>\n",
       "      <td>4.55</td>\n",
       "      <td>4.71</td>\n",
       "      <td>4.71</td>\n",
       "      <td>21512600</td>\n",
       "    </tr>\n",
       "    <tr>\n",
       "      <th>3</th>\n",
       "      <td>2009-05-28</td>\n",
       "      <td>4.75</td>\n",
       "      <td>4.84</td>\n",
       "      <td>4.54</td>\n",
       "      <td>4.70</td>\n",
       "      <td>4.70</td>\n",
       "      <td>18383900</td>\n",
       "    </tr>\n",
       "    <tr>\n",
       "      <th>4</th>\n",
       "      <td>2009-05-29</td>\n",
       "      <td>4.71</td>\n",
       "      <td>4.78</td>\n",
       "      <td>4.38</td>\n",
       "      <td>4.54</td>\n",
       "      <td>4.54</td>\n",
       "      <td>24539700</td>\n",
       "    </tr>\n",
       "    <tr>\n",
       "      <th>5</th>\n",
       "      <td>2009-06-01</td>\n",
       "      <td>4.69</td>\n",
       "      <td>4.90</td>\n",
       "      <td>4.64</td>\n",
       "      <td>4.73</td>\n",
       "      <td>4.73</td>\n",
       "      <td>26633200</td>\n",
       "    </tr>\n",
       "    <tr>\n",
       "      <th>6</th>\n",
       "      <td>2009-06-02</td>\n",
       "      <td>4.68</td>\n",
       "      <td>4.70</td>\n",
       "      <td>4.55</td>\n",
       "      <td>4.56</td>\n",
       "      <td>4.56</td>\n",
       "      <td>24950700</td>\n",
       "    </tr>\n",
       "    <tr>\n",
       "      <th>7</th>\n",
       "      <td>2009-06-03</td>\n",
       "      <td>4.55</td>\n",
       "      <td>4.60</td>\n",
       "      <td>4.34</td>\n",
       "      <td>4.48</td>\n",
       "      <td>4.48</td>\n",
       "      <td>19087100</td>\n",
       "    </tr>\n",
       "    <tr>\n",
       "      <th>8</th>\n",
       "      <td>2009-06-04</td>\n",
       "      <td>4.57</td>\n",
       "      <td>4.74</td>\n",
       "      <td>4.54</td>\n",
       "      <td>4.65</td>\n",
       "      <td>4.65</td>\n",
       "      <td>19728300</td>\n",
       "    </tr>\n",
       "    <tr>\n",
       "      <th>9</th>\n",
       "      <td>2009-06-05</td>\n",
       "      <td>4.84</td>\n",
       "      <td>4.87</td>\n",
       "      <td>4.61</td>\n",
       "      <td>4.63</td>\n",
       "      <td>4.63</td>\n",
       "      <td>18775200</td>\n",
       "    </tr>\n",
       "  </tbody>\n",
       "</table>\n",
       "</div>"
      ],
      "text/plain": [
       "         Date  Open  High   Low  Close  Adj Close    Volume\n",
       "0  2009-05-22  4.43  4.43  4.25   4.26       4.26   8274300\n",
       "1  2009-05-26  4.26  4.57  4.23   4.53       4.53  16094300\n",
       "2  2009-05-27  4.57  4.80  4.55   4.71       4.71  21512600\n",
       "3  2009-05-28  4.75  4.84  4.54   4.70       4.70  18383900\n",
       "4  2009-05-29  4.71  4.78  4.38   4.54       4.54  24539700\n",
       "5  2009-06-01  4.69  4.90  4.64   4.73       4.73  26633200\n",
       "6  2009-06-02  4.68  4.70  4.55   4.56       4.56  24950700\n",
       "7  2009-06-03  4.55  4.60  4.34   4.48       4.48  19087100\n",
       "8  2009-06-04  4.57  4.74  4.54   4.65       4.65  19728300\n",
       "9  2009-06-05  4.84  4.87  4.61   4.63       4.63  18775200"
      ]
     },
     "execution_count": 116,
     "metadata": {},
     "output_type": "execute_result"
    }
   ],
   "source": [
    "amd.head(10)"
   ]
  },
  {
   "cell_type": "code",
   "execution_count": 177,
   "metadata": {},
   "outputs": [],
   "source": [
    "amd['Change in price']= amd['Close'] - amd['Close'].shift(-1)"
   ]
  },
  {
   "cell_type": "code",
   "execution_count": 179,
   "metadata": {},
   "outputs": [
    {
     "data": {
      "image/png": "[encoded data removed]",
      "text/plain": [
       "<Figure size 432x288 with 1 Axes>"
      ]
     },
     "metadata": {
      "needs_background": "light"
     },
     "output_type": "display_data"
    }
   ],
   "source": [
    "plt.plot(amd['Change in price']);"
   ]
  },
  {
   "cell_type": "code",
   "execution_count": 195,
   "metadata": {},
   "outputs": [],
   "source": [
    "amd_auto_corr = pd.Series(amd['Change in price'])\n"
   ]
  },
  {
   "cell_type": "code",
   "execution_count": 201,
   "metadata": {},
   "outputs": [
    {
     "name": "stdout",
     "output_type": "stream",
     "text": [
      "Amd auto correlation for change in price at 1 day lag: 0.023777529569659586\n",
      "Amd auto correlation for change in price at 10 day lag: 0.05096157924621025\n",
      "Amd auto correlation for change in price at 30 day lag: -0.029730562060656947\n",
      "Amd auto correlation for change in price at 30 day lag: -0.03312900433290952\n"
     ]
    }
   ],
   "source": [
    "print(f'Amd auto correlation for change in price at 1 day lag: {amd_auto_corr.autocorr(lag=1)}')\n",
    "print(f'Amd auto correlation for change in price at 10 day lag: {amd_auto_corr.autocorr(lag=10)}')\n",
    "print(f'Amd auto correlation for change in price at 30 day lag: {amd_auto_corr.autocorr(lag=30)}')\n",
    "print(f'Amd auto correlation for change in price at 30 day lag: {amd_auto_corr.autocorr(lag=90)}')"
   ]
  },
  {
   "cell_type": "code",
   "execution_count": 197,
   "metadata": {},
   "outputs": [
    {
     "data": {
      "image/png": "[encoded data removed]",
      "text/plain": [
       "<Figure size 432x288 with 1 Axes>"
      ]
     },
     "metadata": {
      "needs_background": "light"
     },
     "output_type": "display_data"
    }
   ],
   "source": [
    "autocorrelation_plot(amd_auto_corr, ax=None);"
   ]
  },
  {
   "cell_type": "markdown",
   "metadata": {},
   "source": [
    "Google Stock analysis"
   ]
  },
  {
   "cell_type": "code",
   "execution_count": 143,
   "metadata": {},
   "outputs": [],
   "source": [
    "google = pd.read_csv('GOOGL.csv')"
   ]
  },
  {
   "cell_type": "code",
   "execution_count": 144,
   "metadata": {},
   "outputs": [
    {
     "data": {
      "text/html": [
       "<div>\n",
       "<style scoped>\n",
       "    .dataframe tbody tr th:only-of-type {\n",
       "        vertical-align: middle;\n",
       "    }\n",
       "\n",
       "    .dataframe tbody tr th {\n",
       "        vertical-align: top;\n",
       "    }\n",
       "\n",
       "    .dataframe thead th {\n",
       "        text-align: right;\n",
       "    }\n",
       "</style>\n",
       "<table border=\"1\" class=\"dataframe\">\n",
       "  <thead>\n",
       "    <tr style=\"text-align: right;\">\n",
       "      <th></th>\n",
       "      <th>Open</th>\n",
       "      <th>High</th>\n",
       "      <th>Low</th>\n",
       "      <th>Close</th>\n",
       "      <th>Adj Close</th>\n",
       "      <th>Volume</th>\n",
       "    </tr>\n",
       "  </thead>\n",
       "  <tbody>\n",
       "    <tr>\n",
       "      <th>count</th>\n",
       "      <td>2335.000000</td>\n",
       "      <td>2335.000000</td>\n",
       "      <td>2335.000000</td>\n",
       "      <td>2335.000000</td>\n",
       "      <td>2335.000000</td>\n",
       "      <td>2.335000e+03</td>\n",
       "    </tr>\n",
       "    <tr>\n",
       "      <th>mean</th>\n",
       "      <td>550.725409</td>\n",
       "      <td>555.136744</td>\n",
       "      <td>545.908515</td>\n",
       "      <td>550.662757</td>\n",
       "      <td>550.662757</td>\n",
       "      <td>3.764886e+06</td>\n",
       "    </tr>\n",
       "    <tr>\n",
       "      <th>std</th>\n",
       "      <td>278.136894</td>\n",
       "      <td>280.349025</td>\n",
       "      <td>275.855161</td>\n",
       "      <td>278.228484</td>\n",
       "      <td>278.228484</td>\n",
       "      <td>2.764696e+06</td>\n",
       "    </tr>\n",
       "    <tr>\n",
       "      <th>min</th>\n",
       "      <td>196.171173</td>\n",
       "      <td>199.524521</td>\n",
       "      <td>195.195190</td>\n",
       "      <td>196.946945</td>\n",
       "      <td>196.946945</td>\n",
       "      <td>5.206000e+05</td>\n",
       "    </tr>\n",
       "    <tr>\n",
       "      <th>25%</th>\n",
       "      <td>299.286773</td>\n",
       "      <td>301.759247</td>\n",
       "      <td>297.197204</td>\n",
       "      <td>299.144135</td>\n",
       "      <td>299.144135</td>\n",
       "      <td>1.734650e+06</td>\n",
       "    </tr>\n",
       "    <tr>\n",
       "      <th>50%</th>\n",
       "      <td>526.211182</td>\n",
       "      <td>532.780029</td>\n",
       "      <td>521.909973</td>\n",
       "      <td>527.767761</td>\n",
       "      <td>527.767761</td>\n",
       "      <td>3.250200e+06</td>\n",
       "    </tr>\n",
       "    <tr>\n",
       "      <th>75%</th>\n",
       "      <td>757.760010</td>\n",
       "      <td>763.745025</td>\n",
       "      <td>752.024994</td>\n",
       "      <td>758.524993</td>\n",
       "      <td>758.524993</td>\n",
       "      <td>4.891800e+06</td>\n",
       "    </tr>\n",
       "    <tr>\n",
       "      <th>max</th>\n",
       "      <td>1289.119995</td>\n",
       "      <td>1291.439941</td>\n",
       "      <td>1263.000000</td>\n",
       "      <td>1285.500000</td>\n",
       "      <td>1285.500000</td>\n",
       "      <td>2.961990e+07</td>\n",
       "    </tr>\n",
       "  </tbody>\n",
       "</table>\n",
       "</div>"
      ],
      "text/plain": [
       "              Open         High          Low        Close    Adj Close  \\\n",
       "count  2335.000000  2335.000000  2335.000000  2335.000000  2335.000000   \n",
       "mean    550.725409   555.136744   545.908515   550.662757   550.662757   \n",
       "std     278.136894   280.349025   275.855161   278.228484   278.228484   \n",
       "min     196.171173   199.524521   195.195190   196.946945   196.946945   \n",
       "25%     299.286773   301.759247   297.197204   299.144135   299.144135   \n",
       "50%     526.211182   532.780029   521.909973   527.767761   527.767761   \n",
       "75%     757.760010   763.745025   752.024994   758.524993   758.524993   \n",
       "max    1289.119995  1291.439941  1263.000000  1285.500000  1285.500000   \n",
       "\n",
       "             Volume  \n",
       "count  2.335000e+03  \n",
       "mean   3.764886e+06  \n",
       "std    2.764696e+06  \n",
       "min    5.206000e+05  \n",
       "25%    1.734650e+06  \n",
       "50%    3.250200e+06  \n",
       "75%    4.891800e+06  \n",
       "max    2.961990e+07  "
      ]
     },
     "execution_count": 144,
     "metadata": {},
     "output_type": "execute_result"
    }
   ],
   "source": [
    "google.describe()"
   ]
  },
  {
   "cell_type": "code",
   "execution_count": 145,
   "metadata": {},
   "outputs": [
    {
     "data": {
      "text/plain": [
       "Date         0\n",
       "Open         0\n",
       "High         0\n",
       "Low          0\n",
       "Close        0\n",
       "Adj Close    0\n",
       "Volume       0\n",
       "dtype: int64"
      ]
     },
     "execution_count": 145,
     "metadata": {},
     "output_type": "execute_result"
    }
   ],
   "source": [
    "google.isna().sum()"
   ]
  },
  {
   "cell_type": "code",
   "execution_count": 146,
   "metadata": {},
   "outputs": [
    {
     "data": {
      "text/html": [
       "<div>\n",
       "<style scoped>\n",
       "    .dataframe tbody tr th:only-of-type {\n",
       "        vertical-align: middle;\n",
       "    }\n",
       "\n",
       "    .dataframe tbody tr th {\n",
       "        vertical-align: top;\n",
       "    }\n",
       "\n",
       "    .dataframe thead th {\n",
       "        text-align: right;\n",
       "    }\n",
       "</style>\n",
       "<table border=\"1\" class=\"dataframe\">\n",
       "  <thead>\n",
       "    <tr style=\"text-align: right;\">\n",
       "      <th></th>\n",
       "      <th>Date</th>\n",
       "      <th>Open</th>\n",
       "      <th>High</th>\n",
       "      <th>Low</th>\n",
       "      <th>Close</th>\n",
       "      <th>Adj Close</th>\n",
       "      <th>Volume</th>\n",
       "    </tr>\n",
       "  </thead>\n",
       "  <tbody>\n",
       "    <tr>\n",
       "      <th>0</th>\n",
       "      <td>2009-05-22</td>\n",
       "      <td>198.528534</td>\n",
       "      <td>199.524521</td>\n",
       "      <td>196.196198</td>\n",
       "      <td>196.946945</td>\n",
       "      <td>196.946945</td>\n",
       "      <td>3433700</td>\n",
       "    </tr>\n",
       "    <tr>\n",
       "      <th>1</th>\n",
       "      <td>2009-05-26</td>\n",
       "      <td>196.171173</td>\n",
       "      <td>202.702698</td>\n",
       "      <td>195.195190</td>\n",
       "      <td>202.382385</td>\n",
       "      <td>202.382385</td>\n",
       "      <td>6202700</td>\n",
       "    </tr>\n",
       "    <tr>\n",
       "      <th>2</th>\n",
       "      <td>2009-05-27</td>\n",
       "      <td>203.023026</td>\n",
       "      <td>206.136139</td>\n",
       "      <td>202.607605</td>\n",
       "      <td>202.982986</td>\n",
       "      <td>202.982986</td>\n",
       "      <td>6062500</td>\n",
       "    </tr>\n",
       "    <tr>\n",
       "      <th>3</th>\n",
       "      <td>2009-05-28</td>\n",
       "      <td>204.544540</td>\n",
       "      <td>206.016022</td>\n",
       "      <td>202.507507</td>\n",
       "      <td>205.405411</td>\n",
       "      <td>205.405411</td>\n",
       "      <td>5332200</td>\n",
       "    </tr>\n",
       "    <tr>\n",
       "      <th>4</th>\n",
       "      <td>2009-05-29</td>\n",
       "      <td>206.261261</td>\n",
       "      <td>208.823822</td>\n",
       "      <td>205.555557</td>\n",
       "      <td>208.823822</td>\n",
       "      <td>208.823822</td>\n",
       "      <td>5291100</td>\n",
       "    </tr>\n",
       "    <tr>\n",
       "      <th>5</th>\n",
       "      <td>2009-06-01</td>\n",
       "      <td>209.574570</td>\n",
       "      <td>215.015015</td>\n",
       "      <td>209.474472</td>\n",
       "      <td>213.493500</td>\n",
       "      <td>213.493500</td>\n",
       "      <td>6638100</td>\n",
       "    </tr>\n",
       "    <tr>\n",
       "      <th>6</th>\n",
       "      <td>2009-06-02</td>\n",
       "      <td>213.338333</td>\n",
       "      <td>215.195190</td>\n",
       "      <td>211.911911</td>\n",
       "      <td>214.414413</td>\n",
       "      <td>214.414413</td>\n",
       "      <td>5241900</td>\n",
       "    </tr>\n",
       "    <tr>\n",
       "      <th>7</th>\n",
       "      <td>2009-06-03</td>\n",
       "      <td>213.213211</td>\n",
       "      <td>216.446442</td>\n",
       "      <td>212.212219</td>\n",
       "      <td>216.041046</td>\n",
       "      <td>216.041046</td>\n",
       "      <td>7058500</td>\n",
       "    </tr>\n",
       "    <tr>\n",
       "      <th>8</th>\n",
       "      <td>2009-06-04</td>\n",
       "      <td>217.867874</td>\n",
       "      <td>220.840836</td>\n",
       "      <td>217.467468</td>\n",
       "      <td>220.360367</td>\n",
       "      <td>220.360367</td>\n",
       "      <td>7268900</td>\n",
       "    </tr>\n",
       "    <tr>\n",
       "      <th>9</th>\n",
       "      <td>2009-06-05</td>\n",
       "      <td>222.757751</td>\n",
       "      <td>223.893890</td>\n",
       "      <td>219.949951</td>\n",
       "      <td>222.382385</td>\n",
       "      <td>222.382385</td>\n",
       "      <td>7354200</td>\n",
       "    </tr>\n",
       "  </tbody>\n",
       "</table>\n",
       "</div>"
      ],
      "text/plain": [
       "         Date        Open        High         Low       Close   Adj Close  \\\n",
       "0  2009-05-22  198.528534  199.524521  196.196198  196.946945  196.946945   \n",
       "1  2009-05-26  196.171173  202.702698  195.195190  202.382385  202.382385   \n",
       "2  2009-05-27  203.023026  206.136139  202.607605  202.982986  202.982986   \n",
       "3  2009-05-28  204.544540  206.016022  202.507507  205.405411  205.405411   \n",
       "4  2009-05-29  206.261261  208.823822  205.555557  208.823822  208.823822   \n",
       "5  2009-06-01  209.574570  215.015015  209.474472  213.493500  213.493500   \n",
       "6  2009-06-02  213.338333  215.195190  211.911911  214.414413  214.414413   \n",
       "7  2009-06-03  213.213211  216.446442  212.212219  216.041046  216.041046   \n",
       "8  2009-06-04  217.867874  220.840836  217.467468  220.360367  220.360367   \n",
       "9  2009-06-05  222.757751  223.893890  219.949951  222.382385  222.382385   \n",
       "\n",
       "    Volume  \n",
       "0  3433700  \n",
       "1  6202700  \n",
       "2  6062500  \n",
       "3  5332200  \n",
       "4  5291100  \n",
       "5  6638100  \n",
       "6  5241900  \n",
       "7  7058500  \n",
       "8  7268900  \n",
       "9  7354200  "
      ]
     },
     "execution_count": 146,
     "metadata": {},
     "output_type": "execute_result"
    }
   ],
   "source": [
    "google.head(10)"
   ]
  },
  {
   "cell_type": "code",
   "execution_count": 188,
   "metadata": {},
   "outputs": [],
   "source": [
    "google['Change in price'] = google['Close'] - google['Close'].shift(-1)"
   ]
  },
  {
   "cell_type": "code",
   "execution_count": 189,
   "metadata": {},
   "outputs": [
    {
     "data": {
      "text/plain": [
       "[<matplotlib.lines.Line2D at 0x7fd8bd0daa90>]"
      ]
     },
     "execution_count": 189,
     "metadata": {},
     "output_type": "execute_result"
    },
    {
     "data": {
      "image/png": "[encoded data removed]",
      "text/plain": [
       "<Figure size 432x288 with 1 Axes>"
      ]
     },
     "metadata": {
      "needs_background": "light"
     },
     "output_type": "display_data"
    }
   ],
   "source": [
    "plt.plot(google['Change in price'])"
   ]
  },
  {
   "cell_type": "code",
   "execution_count": 198,
   "metadata": {},
   "outputs": [],
   "source": [
    "google_auto_corr = pd.Series(google['Change in price'])"
   ]
  },
  {
   "cell_type": "code",
   "execution_count": 202,
   "metadata": {},
   "outputs": [
    {
     "name": "stdout",
     "output_type": "stream",
     "text": [
      "Google auto correlation for change in price at 1 day lag: 0.054036428294845625\n",
      "Google auto correlation for change in price at 10 day lag: -0.0022905181848053065\n",
      "Google auto correlation for change in price at 30 day lag: 0.0036033938477389965\n",
      "Google auto correlation for change in price at 30 day lag: 0.009940762169914592\n"
     ]
    }
   ],
   "source": [
    "print(f'Google auto correlation for change in price at 1 day lag: {google_auto_corr.autocorr(lag=1)}')\n",
    "print(f'Google auto correlation for change in price at 10 day lag: {google_auto_corr.autocorr(lag=10)}')\n",
    "print(f'Google auto correlation for change in price at 30 day lag: {google_auto_corr.autocorr(lag=30)}')\n",
    "print(f'Google auto correlation for change in price at 30 day lag: {google_auto_corr.autocorr(lag=90)}')"
   ]
  },
  {
   "cell_type": "code",
   "execution_count": null,
   "metadata": {},
   "outputs": [],
   "source": []
  },
  {
   "cell_type": "code",
   "execution_count": null,
   "metadata": {},
   "outputs": [],
   "source": []
  }
 ],
 "metadata": {
  "kernelspec": {
   "display_name": "Python 3",
   "language": "python",
   "name": "python3"
  },
  "language_info": {
   "codemirror_mode": {
    "name": "ipython",
    "version": 3
   },
   "file_extension": ".py",
   "mimetype": "text/x-python",
   "name": "python",
   "nbconvert_exporter": "python",
   "pygments_lexer": "ipython3",
   "version": "3.7.6"
  }
 },
 "nbformat": 4,
 "nbformat_minor": 4
}
