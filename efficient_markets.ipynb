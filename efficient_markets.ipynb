{
 "cells": [
  {
   "cell_type": "markdown",
   "metadata": {},
   "source": [
    "Hypothesis: Stocks follow a random walk. The price movement of a stock today has no statistically significant predicitve power in determing its price tomorrow"
   ]
  },
  {
   "cell_type": "code",
   "execution_count": 1,
   "metadata": {},
   "outputs": [],
   "source": [
    "import pandas as pd\n",
    "from pandas.plotting import autocorrelation_plot\n",
    "import numpy as np\n",
    "import seaborn as sns\n",
    "import matplotlib.pyplot as plt\n",
    "from sklearn import metrics, linear_model, datasets, feature_selection\n",
    "from sklearn.preprocessing import StandardScaler\n",
    "from sklearn.model_selection import train_test_split, cross_val_score\n",
    "from sklearn.neural_network import MLPClassifier\n",
    "import tensorflow as tf\n",
    "from sklearn.metrics import f1_score, precision_score, recall_score, confusion_matrix, roc_curve"
   ]
  },
  {
   "cell_type": "markdown",
   "metadata": {},
   "source": [
    "Tesla Stock Analysis"
   ]
  },
  {
   "cell_type": "code",
   "execution_count": 2,
   "metadata": {},
   "outputs": [],
   "source": [
    "tesla = pd.read_csv('TSLA.csv')"
   ]
  },
  {
   "cell_type": "code",
   "execution_count": 3,
   "metadata": {},
   "outputs": [
    {
     "data": {
      "text/html": [
       "<div>\n",
       "<style scoped>\n",
       "    .dataframe tbody tr th:only-of-type {\n",
       "        vertical-align: middle;\n",
       "    }\n",
       "\n",
       "    .dataframe tbody tr th {\n",
       "        vertical-align: top;\n",
       "    }\n",
       "\n",
       "    .dataframe thead th {\n",
       "        text-align: right;\n",
       "    }\n",
       "</style>\n",
       "<table border=\"1\" class=\"dataframe\">\n",
       "  <thead>\n",
       "    <tr style=\"text-align: right;\">\n",
       "      <th></th>\n",
       "      <th>Open</th>\n",
       "      <th>High</th>\n",
       "      <th>Low</th>\n",
       "      <th>Close</th>\n",
       "      <th>Adj Close</th>\n",
       "      <th>Volume</th>\n",
       "    </tr>\n",
       "  </thead>\n",
       "  <tbody>\n",
       "    <tr>\n",
       "      <th>count</th>\n",
       "      <td>2416.000000</td>\n",
       "      <td>2416.000000</td>\n",
       "      <td>2416.000000</td>\n",
       "      <td>2416.000000</td>\n",
       "      <td>2416.000000</td>\n",
       "      <td>2.416000e+03</td>\n",
       "    </tr>\n",
       "    <tr>\n",
       "      <th>mean</th>\n",
       "      <td>186.271147</td>\n",
       "      <td>189.578224</td>\n",
       "      <td>182.916639</td>\n",
       "      <td>186.403651</td>\n",
       "      <td>186.403651</td>\n",
       "      <td>5.572722e+06</td>\n",
       "    </tr>\n",
       "    <tr>\n",
       "      <th>std</th>\n",
       "      <td>118.740163</td>\n",
       "      <td>120.892329</td>\n",
       "      <td>116.857591</td>\n",
       "      <td>119.136020</td>\n",
       "      <td>119.136020</td>\n",
       "      <td>4.987809e+06</td>\n",
       "    </tr>\n",
       "    <tr>\n",
       "      <th>min</th>\n",
       "      <td>16.139999</td>\n",
       "      <td>16.629999</td>\n",
       "      <td>14.980000</td>\n",
       "      <td>15.800000</td>\n",
       "      <td>15.800000</td>\n",
       "      <td>1.185000e+05</td>\n",
       "    </tr>\n",
       "    <tr>\n",
       "      <th>25%</th>\n",
       "      <td>34.342498</td>\n",
       "      <td>34.897501</td>\n",
       "      <td>33.587501</td>\n",
       "      <td>34.400002</td>\n",
       "      <td>34.400002</td>\n",
       "      <td>1.899275e+06</td>\n",
       "    </tr>\n",
       "    <tr>\n",
       "      <th>50%</th>\n",
       "      <td>213.035003</td>\n",
       "      <td>216.745002</td>\n",
       "      <td>208.870002</td>\n",
       "      <td>212.960007</td>\n",
       "      <td>212.960007</td>\n",
       "      <td>4.578400e+06</td>\n",
       "    </tr>\n",
       "    <tr>\n",
       "      <th>75%</th>\n",
       "      <td>266.450012</td>\n",
       "      <td>270.927513</td>\n",
       "      <td>262.102501</td>\n",
       "      <td>266.774994</td>\n",
       "      <td>266.774994</td>\n",
       "      <td>7.361150e+06</td>\n",
       "    </tr>\n",
       "    <tr>\n",
       "      <th>max</th>\n",
       "      <td>673.690002</td>\n",
       "      <td>786.140015</td>\n",
       "      <td>673.520020</td>\n",
       "      <td>780.000000</td>\n",
       "      <td>780.000000</td>\n",
       "      <td>4.706500e+07</td>\n",
       "    </tr>\n",
       "  </tbody>\n",
       "</table>\n",
       "</div>"
      ],
      "text/plain": [
       "              Open         High          Low        Close    Adj Close  \\\n",
       "count  2416.000000  2416.000000  2416.000000  2416.000000  2416.000000   \n",
       "mean    186.271147   189.578224   182.916639   186.403651   186.403651   \n",
       "std     118.740163   120.892329   116.857591   119.136020   119.136020   \n",
       "min      16.139999    16.629999    14.980000    15.800000    15.800000   \n",
       "25%      34.342498    34.897501    33.587501    34.400002    34.400002   \n",
       "50%     213.035003   216.745002   208.870002   212.960007   212.960007   \n",
       "75%     266.450012   270.927513   262.102501   266.774994   266.774994   \n",
       "max     673.690002   786.140015   673.520020   780.000000   780.000000   \n",
       "\n",
       "             Volume  \n",
       "count  2.416000e+03  \n",
       "mean   5.572722e+06  \n",
       "std    4.987809e+06  \n",
       "min    1.185000e+05  \n",
       "25%    1.899275e+06  \n",
       "50%    4.578400e+06  \n",
       "75%    7.361150e+06  \n",
       "max    4.706500e+07  "
      ]
     },
     "execution_count": 3,
     "metadata": {},
     "output_type": "execute_result"
    }
   ],
   "source": [
    "tesla.describe()"
   ]
  },
  {
   "cell_type": "code",
   "execution_count": 4,
   "metadata": {},
   "outputs": [
    {
     "data": {
      "text/html": [
       "<div>\n",
       "<style scoped>\n",
       "    .dataframe tbody tr th:only-of-type {\n",
       "        vertical-align: middle;\n",
       "    }\n",
       "\n",
       "    .dataframe tbody tr th {\n",
       "        vertical-align: top;\n",
       "    }\n",
       "\n",
       "    .dataframe thead th {\n",
       "        text-align: right;\n",
       "    }\n",
       "</style>\n",
       "<table border=\"1\" class=\"dataframe\">\n",
       "  <thead>\n",
       "    <tr style=\"text-align: right;\">\n",
       "      <th></th>\n",
       "      <th>Date</th>\n",
       "      <th>Open</th>\n",
       "      <th>High</th>\n",
       "      <th>Low</th>\n",
       "      <th>Close</th>\n",
       "      <th>Adj Close</th>\n",
       "      <th>Volume</th>\n",
       "    </tr>\n",
       "  </thead>\n",
       "  <tbody>\n",
       "    <tr>\n",
       "      <th>0</th>\n",
       "      <td>2010-06-29</td>\n",
       "      <td>19.000000</td>\n",
       "      <td>25.00</td>\n",
       "      <td>17.540001</td>\n",
       "      <td>23.889999</td>\n",
       "      <td>23.889999</td>\n",
       "      <td>18766300</td>\n",
       "    </tr>\n",
       "    <tr>\n",
       "      <th>1</th>\n",
       "      <td>2010-06-30</td>\n",
       "      <td>25.790001</td>\n",
       "      <td>30.42</td>\n",
       "      <td>23.299999</td>\n",
       "      <td>23.830000</td>\n",
       "      <td>23.830000</td>\n",
       "      <td>17187100</td>\n",
       "    </tr>\n",
       "    <tr>\n",
       "      <th>2</th>\n",
       "      <td>2010-07-01</td>\n",
       "      <td>25.000000</td>\n",
       "      <td>25.92</td>\n",
       "      <td>20.270000</td>\n",
       "      <td>21.959999</td>\n",
       "      <td>21.959999</td>\n",
       "      <td>8218800</td>\n",
       "    </tr>\n",
       "    <tr>\n",
       "      <th>3</th>\n",
       "      <td>2010-07-02</td>\n",
       "      <td>23.000000</td>\n",
       "      <td>23.10</td>\n",
       "      <td>18.709999</td>\n",
       "      <td>19.200001</td>\n",
       "      <td>19.200001</td>\n",
       "      <td>5139800</td>\n",
       "    </tr>\n",
       "    <tr>\n",
       "      <th>4</th>\n",
       "      <td>2010-07-06</td>\n",
       "      <td>20.000000</td>\n",
       "      <td>20.00</td>\n",
       "      <td>15.830000</td>\n",
       "      <td>16.110001</td>\n",
       "      <td>16.110001</td>\n",
       "      <td>6866900</td>\n",
       "    </tr>\n",
       "  </tbody>\n",
       "</table>\n",
       "</div>"
      ],
      "text/plain": [
       "         Date       Open   High        Low      Close  Adj Close    Volume\n",
       "0  2010-06-29  19.000000  25.00  17.540001  23.889999  23.889999  18766300\n",
       "1  2010-06-30  25.790001  30.42  23.299999  23.830000  23.830000  17187100\n",
       "2  2010-07-01  25.000000  25.92  20.270000  21.959999  21.959999   8218800\n",
       "3  2010-07-02  23.000000  23.10  18.709999  19.200001  19.200001   5139800\n",
       "4  2010-07-06  20.000000  20.00  15.830000  16.110001  16.110001   6866900"
      ]
     },
     "execution_count": 4,
     "metadata": {},
     "output_type": "execute_result"
    }
   ],
   "source": [
    "tesla.head(5) #showing first 5 rows of the original database"
   ]
  },
  {
   "cell_type": "code",
   "execution_count": 5,
   "metadata": {},
   "outputs": [
    {
     "data": {
      "text/plain": [
       "Date         0\n",
       "Open         0\n",
       "High         0\n",
       "Low          0\n",
       "Close        0\n",
       "Adj Close    0\n",
       "Volume       0\n",
       "dtype: int64"
      ]
     },
     "execution_count": 5,
     "metadata": {},
     "output_type": "execute_result"
    }
   ],
   "source": [
    "tesla.isna().sum()"
   ]
  },
  {
   "cell_type": "code",
   "execution_count": 6,
   "metadata": {},
   "outputs": [],
   "source": [
    "tesla['Percentage change in price'] = (tesla['Close']/tesla['Close'].shift(1))-1 #Change in price \"today\" = price today - price yesterday, shift notation is inversed\n",
    "#-1 is tomorrow, 1 is yesterday"
   ]
  },
  {
   "cell_type": "code",
   "execution_count": 7,
   "metadata": {},
   "outputs": [
    {
     "data": {
      "text/html": [
       "<div>\n",
       "<style scoped>\n",
       "    .dataframe tbody tr th:only-of-type {\n",
       "        vertical-align: middle;\n",
       "    }\n",
       "\n",
       "    .dataframe tbody tr th {\n",
       "        vertical-align: top;\n",
       "    }\n",
       "\n",
       "    .dataframe thead th {\n",
       "        text-align: right;\n",
       "    }\n",
       "</style>\n",
       "<table border=\"1\" class=\"dataframe\">\n",
       "  <thead>\n",
       "    <tr style=\"text-align: right;\">\n",
       "      <th></th>\n",
       "      <th>Date</th>\n",
       "      <th>Open</th>\n",
       "      <th>High</th>\n",
       "      <th>Low</th>\n",
       "      <th>Close</th>\n",
       "      <th>Adj Close</th>\n",
       "      <th>Volume</th>\n",
       "      <th>Percentage change in price</th>\n",
       "    </tr>\n",
       "  </thead>\n",
       "  <tbody>\n",
       "    <tr>\n",
       "      <th>0</th>\n",
       "      <td>2010-06-29</td>\n",
       "      <td>19.000000</td>\n",
       "      <td>25.000000</td>\n",
       "      <td>17.540001</td>\n",
       "      <td>23.889999</td>\n",
       "      <td>23.889999</td>\n",
       "      <td>18766300</td>\n",
       "      <td>NaN</td>\n",
       "    </tr>\n",
       "    <tr>\n",
       "      <th>1</th>\n",
       "      <td>2010-06-30</td>\n",
       "      <td>25.790001</td>\n",
       "      <td>30.420000</td>\n",
       "      <td>23.299999</td>\n",
       "      <td>23.830000</td>\n",
       "      <td>23.830000</td>\n",
       "      <td>17187100</td>\n",
       "      <td>-0.002511</td>\n",
       "    </tr>\n",
       "    <tr>\n",
       "      <th>2</th>\n",
       "      <td>2010-07-01</td>\n",
       "      <td>25.000000</td>\n",
       "      <td>25.920000</td>\n",
       "      <td>20.270000</td>\n",
       "      <td>21.959999</td>\n",
       "      <td>21.959999</td>\n",
       "      <td>8218800</td>\n",
       "      <td>-0.078473</td>\n",
       "    </tr>\n",
       "    <tr>\n",
       "      <th>3</th>\n",
       "      <td>2010-07-02</td>\n",
       "      <td>23.000000</td>\n",
       "      <td>23.100000</td>\n",
       "      <td>18.709999</td>\n",
       "      <td>19.200001</td>\n",
       "      <td>19.200001</td>\n",
       "      <td>5139800</td>\n",
       "      <td>-0.125683</td>\n",
       "    </tr>\n",
       "    <tr>\n",
       "      <th>4</th>\n",
       "      <td>2010-07-06</td>\n",
       "      <td>20.000000</td>\n",
       "      <td>20.000000</td>\n",
       "      <td>15.830000</td>\n",
       "      <td>16.110001</td>\n",
       "      <td>16.110001</td>\n",
       "      <td>6866900</td>\n",
       "      <td>-0.160937</td>\n",
       "    </tr>\n",
       "    <tr>\n",
       "      <th>5</th>\n",
       "      <td>2010-07-07</td>\n",
       "      <td>16.400000</td>\n",
       "      <td>16.629999</td>\n",
       "      <td>14.980000</td>\n",
       "      <td>15.800000</td>\n",
       "      <td>15.800000</td>\n",
       "      <td>6921700</td>\n",
       "      <td>-0.019243</td>\n",
       "    </tr>\n",
       "    <tr>\n",
       "      <th>6</th>\n",
       "      <td>2010-07-08</td>\n",
       "      <td>16.139999</td>\n",
       "      <td>17.520000</td>\n",
       "      <td>15.570000</td>\n",
       "      <td>17.459999</td>\n",
       "      <td>17.459999</td>\n",
       "      <td>7711400</td>\n",
       "      <td>0.105063</td>\n",
       "    </tr>\n",
       "    <tr>\n",
       "      <th>7</th>\n",
       "      <td>2010-07-09</td>\n",
       "      <td>17.580000</td>\n",
       "      <td>17.900000</td>\n",
       "      <td>16.549999</td>\n",
       "      <td>17.400000</td>\n",
       "      <td>17.400000</td>\n",
       "      <td>4050600</td>\n",
       "      <td>-0.003436</td>\n",
       "    </tr>\n",
       "    <tr>\n",
       "      <th>8</th>\n",
       "      <td>2010-07-12</td>\n",
       "      <td>17.950001</td>\n",
       "      <td>18.070000</td>\n",
       "      <td>17.000000</td>\n",
       "      <td>17.049999</td>\n",
       "      <td>17.049999</td>\n",
       "      <td>2202500</td>\n",
       "      <td>-0.020115</td>\n",
       "    </tr>\n",
       "    <tr>\n",
       "      <th>9</th>\n",
       "      <td>2010-07-13</td>\n",
       "      <td>17.389999</td>\n",
       "      <td>18.639999</td>\n",
       "      <td>16.900000</td>\n",
       "      <td>18.139999</td>\n",
       "      <td>18.139999</td>\n",
       "      <td>2680100</td>\n",
       "      <td>0.063930</td>\n",
       "    </tr>\n",
       "  </tbody>\n",
       "</table>\n",
       "</div>"
      ],
      "text/plain": [
       "         Date       Open       High        Low      Close  Adj Close  \\\n",
       "0  2010-06-29  19.000000  25.000000  17.540001  23.889999  23.889999   \n",
       "1  2010-06-30  25.790001  30.420000  23.299999  23.830000  23.830000   \n",
       "2  2010-07-01  25.000000  25.920000  20.270000  21.959999  21.959999   \n",
       "3  2010-07-02  23.000000  23.100000  18.709999  19.200001  19.200001   \n",
       "4  2010-07-06  20.000000  20.000000  15.830000  16.110001  16.110001   \n",
       "5  2010-07-07  16.400000  16.629999  14.980000  15.800000  15.800000   \n",
       "6  2010-07-08  16.139999  17.520000  15.570000  17.459999  17.459999   \n",
       "7  2010-07-09  17.580000  17.900000  16.549999  17.400000  17.400000   \n",
       "8  2010-07-12  17.950001  18.070000  17.000000  17.049999  17.049999   \n",
       "9  2010-07-13  17.389999  18.639999  16.900000  18.139999  18.139999   \n",
       "\n",
       "     Volume  Percentage change in price  \n",
       "0  18766300                         NaN  \n",
       "1  17187100                   -0.002511  \n",
       "2   8218800                   -0.078473  \n",
       "3   5139800                   -0.125683  \n",
       "4   6866900                   -0.160937  \n",
       "5   6921700                   -0.019243  \n",
       "6   7711400                    0.105063  \n",
       "7   4050600                   -0.003436  \n",
       "8   2202500                   -0.020115  \n",
       "9   2680100                    0.063930  "
      ]
     },
     "execution_count": 7,
     "metadata": {},
     "output_type": "execute_result"
    }
   ],
   "source": [
    "tesla.head(10)"
   ]
  },
  {
   "cell_type": "code",
   "execution_count": 8,
   "metadata": {},
   "outputs": [
    {
     "data": {
      "text/plain": [
       "count    2415.000000\n",
       "mean        0.001975\n",
       "std         0.032762\n",
       "min        -0.193274\n",
       "25%        -0.014178\n",
       "50%         0.000870\n",
       "75%         0.018115\n",
       "max         0.243951\n",
       "Name: Percentage change in price, dtype: float64"
      ]
     },
     "execution_count": 8,
     "metadata": {},
     "output_type": "execute_result"
    }
   ],
   "source": [
    "tesla['Percentage change in price'].describe()"
   ]
  },
  {
   "cell_type": "code",
   "execution_count": 9,
   "metadata": {},
   "outputs": [],
   "source": [
    "tesla_auto_corr = pd.Series(tesla['Percentage change in price'])"
   ]
  },
  {
   "cell_type": "code",
   "execution_count": 10,
   "metadata": {},
   "outputs": [
    {
     "name": "stdout",
     "output_type": "stream",
     "text": [
      "Autocorrelation in percentage price change 1 day lag: 0.008628711791364287\n",
      "Autocorrelation in percentage price change 10 day lag: 0.014093612910607414\n",
      "Autocorrelation in percentage price change 30 day lag: 0.014708342742235087\n",
      "Autocorrelation in percentage price change 90 day lag: 0.0018570185923042605\n"
     ]
    }
   ],
   "source": [
    "print(f'Autocorrelation in percentage price change 1 day lag: {tesla_auto_corr.autocorr(lag=1)}') \n",
    "print(f'Autocorrelation in percentage price change 10 day lag: {tesla_auto_corr.autocorr(lag=10)}') \n",
    "print(f'Autocorrelation in percentage price change 30 day lag: {tesla_auto_corr.autocorr(lag=30)}') \n",
    "print(f'Autocorrelation in percentage price change 90 day lag: {tesla_auto_corr.autocorr(lag=90)}') "
   ]
  },
  {
   "cell_type": "code",
   "execution_count": 11,
   "metadata": {},
   "outputs": [],
   "source": [
    "tesla['tesla_1_day_autocorr'] = tesla_auto_corr.autocorr(lag=1) #autocorrelation todays price change with yesterdays\n",
    "tesla['tesla_10_day_autocorr'] = tesla_auto_corr.autocorr(lag=10) #autocorrelation todays price change with price 10 days ago\n",
    "tesla['tesla_30_day_autocorr'] = tesla_auto_corr.autocorr(lag=30) #30 days ago\n",
    "tesla['Tesla_90_day_autocorr'] = tesla_auto_corr.autocorr(lag=90) #90 days ago"
   ]
  },
  {
   "cell_type": "code",
   "execution_count": 12,
   "metadata": {},
   "outputs": [],
   "source": [
    "tesla['1_day_close'] = tesla['Close'].shift(-1) #price 1 day in the future from \"today\""
   ]
  },
  {
   "cell_type": "code",
   "execution_count": 13,
   "metadata": {},
   "outputs": [],
   "source": [
    "tesla['Price Up Tomorrow'] = np.where(tesla['Close'].shift(-1)>tesla['Close'], 1, 0) #Price Up Tomorrow Tomorrow is True (1) if tomorrows \n",
    "#closing price is higher than todays. This will be our dependent variable we are trying to predict for our classficiation model"
   ]
  },
  {
   "cell_type": "code",
   "execution_count": 14,
   "metadata": {},
   "outputs": [
    {
     "name": "stdout",
     "output_type": "stream",
     "text": [
      "<class 'pandas.core.frame.DataFrame'>\n",
      "RangeIndex: 2416 entries, 0 to 2415\n",
      "Data columns (total 14 columns):\n",
      " #   Column                      Non-Null Count  Dtype  \n",
      "---  ------                      --------------  -----  \n",
      " 0   Date                        2416 non-null   object \n",
      " 1   Open                        2416 non-null   float64\n",
      " 2   High                        2416 non-null   float64\n",
      " 3   Low                         2416 non-null   float64\n",
      " 4   Close                       2416 non-null   float64\n",
      " 5   Adj Close                   2416 non-null   float64\n",
      " 6   Volume                      2416 non-null   int64  \n",
      " 7   Percentage change in price  2415 non-null   float64\n",
      " 8   tesla_1_day_autocorr        2416 non-null   float64\n",
      " 9   tesla_10_day_autocorr       2416 non-null   float64\n",
      " 10  tesla_30_day_autocorr       2416 non-null   float64\n",
      " 11  Tesla_90_day_autocorr       2416 non-null   float64\n",
      " 12  1_day_close                 2415 non-null   float64\n",
      " 13  Price Up Tomorrow           2416 non-null   int64  \n",
      "dtypes: float64(11), int64(2), object(1)\n",
      "memory usage: 264.4+ KB\n"
     ]
    }
   ],
   "source": [
    "tesla.info()"
   ]
  },
  {
   "cell_type": "code",
   "execution_count": 15,
   "metadata": {},
   "outputs": [],
   "source": [
    "tesla.dropna(axis=0, inplace=True)"
   ]
  },
  {
   "cell_type": "code",
   "execution_count": 16,
   "metadata": {},
   "outputs": [],
   "source": [
    "def univariate_data(dataset, start_index, end_index, history_size, target_size):\n",
    "  data = []\n",
    "  labels = []\n",
    "\n",
    "  start_index = start_index + history_size\n",
    "  if end_index is None:\n",
    "    end_index = len(dataset) - target_size\n",
    "\n",
    "  for i in range(start_index, end_index):\n",
    "    indices = range(i-history_size, i)\n",
    "    \n",
    "    data.append(np.reshape(dataset[indices], (history_size, 1)))\n",
    "    labels.append(dataset[i+target_size])\n",
    "  return np.array(data), np.array(labels)"
   ]
  },
  {
   "cell_type": "code",
   "execution_count": 17,
   "metadata": {},
   "outputs": [],
   "source": [
    "TRAIN_SPLIT = 1743 #represents a 75% training split"
   ]
  },
  {
   "cell_type": "code",
   "execution_count": 18,
   "metadata": {},
   "outputs": [],
   "source": [
    "tf.random.set_seed(13)"
   ]
  },
  {
   "cell_type": "code",
   "execution_count": 19,
   "metadata": {},
   "outputs": [
    {
     "data": {
      "text/html": [
       "<div>\n",
       "<style scoped>\n",
       "    .dataframe tbody tr th:only-of-type {\n",
       "        vertical-align: middle;\n",
       "    }\n",
       "\n",
       "    .dataframe tbody tr th {\n",
       "        vertical-align: top;\n",
       "    }\n",
       "\n",
       "    .dataframe thead th {\n",
       "        text-align: right;\n",
       "    }\n",
       "</style>\n",
       "<table border=\"1\" class=\"dataframe\">\n",
       "  <thead>\n",
       "    <tr style=\"text-align: right;\">\n",
       "      <th></th>\n",
       "      <th>Percentage change in price</th>\n",
       "    </tr>\n",
       "    <tr>\n",
       "      <th>Date</th>\n",
       "      <th></th>\n",
       "    </tr>\n",
       "  </thead>\n",
       "  <tbody>\n",
       "    <tr>\n",
       "      <th>2010-06-30</th>\n",
       "      <td>-0.002511</td>\n",
       "    </tr>\n",
       "    <tr>\n",
       "      <th>2010-07-01</th>\n",
       "      <td>-0.078473</td>\n",
       "    </tr>\n",
       "    <tr>\n",
       "      <th>2010-07-02</th>\n",
       "      <td>-0.125683</td>\n",
       "    </tr>\n",
       "    <tr>\n",
       "      <th>2010-07-06</th>\n",
       "      <td>-0.160937</td>\n",
       "    </tr>\n",
       "    <tr>\n",
       "      <th>2010-07-07</th>\n",
       "      <td>-0.019243</td>\n",
       "    </tr>\n",
       "    <tr>\n",
       "      <th>2010-07-08</th>\n",
       "      <td>0.105063</td>\n",
       "    </tr>\n",
       "    <tr>\n",
       "      <th>2010-07-09</th>\n",
       "      <td>-0.003436</td>\n",
       "    </tr>\n",
       "    <tr>\n",
       "      <th>2010-07-12</th>\n",
       "      <td>-0.020115</td>\n",
       "    </tr>\n",
       "    <tr>\n",
       "      <th>2010-07-13</th>\n",
       "      <td>0.063930</td>\n",
       "    </tr>\n",
       "    <tr>\n",
       "      <th>2010-07-14</th>\n",
       "      <td>0.093716</td>\n",
       "    </tr>\n",
       "  </tbody>\n",
       "</table>\n",
       "</div>"
      ],
      "text/plain": [
       "            Percentage change in price\n",
       "Date                                  \n",
       "2010-06-30                   -0.002511\n",
       "2010-07-01                   -0.078473\n",
       "2010-07-02                   -0.125683\n",
       "2010-07-06                   -0.160937\n",
       "2010-07-07                   -0.019243\n",
       "2010-07-08                    0.105063\n",
       "2010-07-09                   -0.003436\n",
       "2010-07-12                   -0.020115\n",
       "2010-07-13                    0.063930\n",
       "2010-07-14                    0.093716"
      ]
     },
     "execution_count": 19,
     "metadata": {},
     "output_type": "execute_result"
    }
   ],
   "source": [
    "uni_data = tesla[['Percentage change in price']]\n",
    "uni_data.index = tesla['Date']\n",
    "uni_data.head(10)"
   ]
  },
  {
   "cell_type": "code",
   "execution_count": 20,
   "metadata": {},
   "outputs": [
    {
     "data": {
      "text/plain": [
       "Text(0.5, 1.0, 'Tesla 1 Day Price Movement')"
      ]
     },
     "execution_count": 20,
     "metadata": {},
     "output_type": "execute_result"
    },
    {
     "data": {
      "image/png": "[encoded data removed]",
      "text/plain": [
       "<Figure size 432x288 with 1 Axes>"
      ]
     },
     "metadata": {
      "needs_background": "light"
     },
     "output_type": "display_data"
    }
   ],
   "source": [
    "uni_data.plot(subplots=True)\n",
    "plt.title('Tesla 1 Day Price Movement')"
   ]
  },
  {
   "cell_type": "code",
   "execution_count": 21,
   "metadata": {},
   "outputs": [],
   "source": [
    "uni_data = uni_data.values"
   ]
  },
  {
   "cell_type": "code",
   "execution_count": 22,
   "metadata": {},
   "outputs": [],
   "source": [
    "uni_train_mean = uni_data[:TRAIN_SPLIT].mean()\n",
    "uni_train_std = uni_data[:TRAIN_SPLIT].std()"
   ]
  },
  {
   "cell_type": "code",
   "execution_count": 23,
   "metadata": {},
   "outputs": [],
   "source": [
    "uni_data = (uni_data-uni_train_mean)/uni_train_std"
   ]
  },
  {
   "cell_type": "code",
   "execution_count": 24,
   "metadata": {},
   "outputs": [],
   "source": [
    "univariate_past_history = 30\n",
    "univariate_future_target = 0\n",
    "\n",
    "x_train_uni, y_train_uni = univariate_data(uni_data, 0, TRAIN_SPLIT,\n",
    "                                           univariate_past_history,\n",
    "                                           univariate_future_target)\n",
    "x_val_uni, y_val_uni = univariate_data(uni_data, TRAIN_SPLIT, None,\n",
    "                                       univariate_past_history,\n",
    "                                       univariate_future_target)"
   ]
  },
  {
   "cell_type": "code",
   "execution_count": 25,
   "metadata": {},
   "outputs": [],
   "source": [
    "def create_time_steps(length):\n",
    "  return list(range(-length, 0))"
   ]
  },
  {
   "cell_type": "code",
   "execution_count": 26,
   "metadata": {},
   "outputs": [],
   "source": [
    "def show_plot(plot_data, delta, title):\n",
    "  labels = ['History', 'True Future', 'Model Prediction']\n",
    "  marker = ['.-', 'bo', 'go']\n",
    "  time_steps = create_time_steps(plot_data[0].shape[0])\n",
    "  if delta:\n",
    "    future = delta\n",
    "  else:\n",
    "    future = 0\n",
    "\n",
    "  plt.title(title)\n",
    "  for i, x in enumerate(plot_data):\n",
    "    if i:\n",
    "      plt.plot(future, plot_data[i], marker[i], markersize=10,\n",
    "               label=labels[i])\n",
    "    else:\n",
    "      plt.plot(time_steps, plot_data[i].flatten(), marker[i], label=labels[i])\n",
    "  plt.legend()\n",
    "  plt.xlim([time_steps[0], (future+5)*2])\n",
    "  plt.xlabel('Time-Step')\n",
    "  return plt"
   ]
  },
  {
   "cell_type": "code",
   "execution_count": 27,
   "metadata": {},
   "outputs": [],
   "source": [
    "train_univariate = tf.data.Dataset.from_tensor_slices((x_train_uni, y_train_uni))\n",
    "train_univariate = train_univariate.cache().shuffle(1743).batch(32).repeat()\n",
    "\n",
    "tesla_univariate = tf.data.Dataset.from_tensor_slices((x_val_uni, y_val_uni))\n",
    "tesla_univariate = tesla_univariate.batch(32).repeat()"
   ]
  },
  {
   "cell_type": "code",
   "execution_count": 28,
   "metadata": {},
   "outputs": [],
   "source": [
    "tesla_lstm_model = tf.keras.models.Sequential([tf.keras.layers.LSTM(8, input_shape=x_train_uni.shape[-2:]),tf.keras.layers.Dense(1)])\n",
    "tesla_lstm_model.add(tf.keras.layers.Dropout(0.2))\n",
    "tesla_lstm_model.add(tf.keras.layers.Activation('linear'))\n",
    "tesla_lstm_model.compile(optimizer='adam', loss='mape')"
   ]
  },
  {
   "cell_type": "code",
   "execution_count": 29,
   "metadata": {},
   "outputs": [
    {
     "name": "stdout",
     "output_type": "stream",
     "text": [
      "Epoch 1/10\n",
      "500/500 [==============================] - 4s 9ms/step - loss: 102.4680 - val_loss: 100.7040\n",
      "Epoch 2/10\n",
      "500/500 [==============================] - 4s 8ms/step - loss: 101.0587 - val_loss: 100.6099\n",
      "Epoch 3/10\n",
      "500/500 [==============================] - 4s 8ms/step - loss: 100.8313 - val_loss: 100.0208\n",
      "Epoch 4/10\n",
      "500/500 [==============================] - 4s 8ms/step - loss: 100.7865 - val_loss: 100.2818\n",
      "Epoch 5/10\n",
      "500/500 [==============================] - 4s 8ms/step - loss: 100.3983 - val_loss: 101.8316\n",
      "Epoch 6/10\n",
      "500/500 [==============================] - 4s 9ms/step - loss: 100.3061 - val_loss: 99.8783\n",
      "Epoch 7/10\n",
      "500/500 [==============================] - 4s 8ms/step - loss: 100.3772 - val_loss: 100.7122\n",
      "Epoch 8/10\n",
      "500/500 [==============================] - 4s 9ms/step - loss: 100.4818 - val_loss: 99.7487\n",
      "Epoch 9/10\n",
      "500/500 [==============================] - 4s 9ms/step - loss: 100.1368 - val_loss: 99.6494\n",
      "Epoch 10/10\n",
      "500/500 [==============================] - 5s 9ms/step - loss: 100.3475 - val_loss: 100.1997\n"
     ]
    },
    {
     "data": {
      "text/plain": [
       "<tensorflow.python.keras.callbacks.History at 0x7fd7a2318590>"
      ]
     },
     "execution_count": 29,
     "metadata": {},
     "output_type": "execute_result"
    }
   ],
   "source": [
    "tesla_lstm_model.fit(train_univariate, epochs=10,\n",
    "                      steps_per_epoch=500,\n",
    "                      validation_data=tesla_univariate, validation_steps=50)"
   ]
  },
  {
   "cell_type": "code",
   "execution_count": 30,
   "metadata": {},
   "outputs": [],
   "source": [
    "def model_mape(model):\n",
    "    mape = []\n",
    "    for i in model.history.history['val_loss']:\n",
    "        mape.append(i)\n",
    "    return sum(mape)/(len(model.history.history['val_loss']))"
   ]
  },
  {
   "cell_type": "code",
   "execution_count": 31,
   "metadata": {},
   "outputs": [
    {
     "name": "stdout",
     "output_type": "stream",
     "text": [
      "Tesla dataset MAPE: 100.36364517211913\n"
     ]
    }
   ],
   "source": [
    "print(f'Tesla dataset MAPE: {model_mape(tesla_lstm_model)}')"
   ]
  },
  {
   "cell_type": "code",
   "execution_count": 32,
   "metadata": {},
   "outputs": [],
   "source": [
    "def prediction_attempt(model, model_name, data):\n",
    "    for x, y in data.take(3):\n",
    "      plot = show_plot([x[0].numpy(), y[0].numpy(), model.predict(x_val_uni)[0]],1, model_name)\n",
    "      \n",
    "      plot.show()"
   ]
  },
  {
   "cell_type": "code",
   "execution_count": 33,
   "metadata": {},
   "outputs": [
    {
     "data": {
      "image/png": "[encoded data removed]",
      "text/plain": [
       "<Figure size 432x288 with 1 Axes>"
      ]
     },
     "metadata": {
      "needs_background": "light"
     },
     "output_type": "display_data"
    },
    {
     "data": {
      "image/png": "[encoded data removed]",
      "text/plain": [
       "<Figure size 432x288 with 1 Axes>"
      ]
     },
     "metadata": {
      "needs_background": "light"
     },
     "output_type": "display_data"
    },
    {
     "data": {
      "image/png": "[encoded data removed]",
      "text/plain": [
       "<Figure size 432x288 with 1 Axes>"
      ]
     },
     "metadata": {
      "needs_background": "light"
     },
     "output_type": "display_data"
    }
   ],
   "source": [
    "prediction_attempt(tesla_lstm_model, 'Tesla Price Action Predicition RNN Model', tesla_univariate)"
   ]
  },
  {
   "cell_type": "code",
   "execution_count": 34,
   "metadata": {},
   "outputs": [
    {
     "data": {
      "text/html": [
       "<div>\n",
       "<style scoped>\n",
       "    .dataframe tbody tr th:only-of-type {\n",
       "        vertical-align: middle;\n",
       "    }\n",
       "\n",
       "    .dataframe tbody tr th {\n",
       "        vertical-align: top;\n",
       "    }\n",
       "\n",
       "    .dataframe thead th {\n",
       "        text-align: right;\n",
       "    }\n",
       "</style>\n",
       "<table border=\"1\" class=\"dataframe\">\n",
       "  <thead>\n",
       "    <tr style=\"text-align: right;\">\n",
       "      <th></th>\n",
       "      <th>Date</th>\n",
       "      <th>Open</th>\n",
       "      <th>High</th>\n",
       "      <th>Low</th>\n",
       "      <th>Close</th>\n",
       "      <th>Adj Close</th>\n",
       "      <th>Volume</th>\n",
       "      <th>Percentage change in price</th>\n",
       "      <th>tesla_1_day_autocorr</th>\n",
       "      <th>tesla_10_day_autocorr</th>\n",
       "      <th>tesla_30_day_autocorr</th>\n",
       "      <th>Tesla_90_day_autocorr</th>\n",
       "      <th>1_day_close</th>\n",
       "      <th>Price Up Tomorrow</th>\n",
       "    </tr>\n",
       "  </thead>\n",
       "  <tbody>\n",
       "    <tr>\n",
       "      <th>1</th>\n",
       "      <td>2010-06-30</td>\n",
       "      <td>25.790001</td>\n",
       "      <td>30.420000</td>\n",
       "      <td>23.299999</td>\n",
       "      <td>23.830000</td>\n",
       "      <td>23.830000</td>\n",
       "      <td>17187100</td>\n",
       "      <td>-0.002511</td>\n",
       "      <td>0.008629</td>\n",
       "      <td>0.014094</td>\n",
       "      <td>0.014708</td>\n",
       "      <td>0.001857</td>\n",
       "      <td>21.959999</td>\n",
       "      <td>0</td>\n",
       "    </tr>\n",
       "    <tr>\n",
       "      <th>2</th>\n",
       "      <td>2010-07-01</td>\n",
       "      <td>25.000000</td>\n",
       "      <td>25.920000</td>\n",
       "      <td>20.270000</td>\n",
       "      <td>21.959999</td>\n",
       "      <td>21.959999</td>\n",
       "      <td>8218800</td>\n",
       "      <td>-0.078473</td>\n",
       "      <td>0.008629</td>\n",
       "      <td>0.014094</td>\n",
       "      <td>0.014708</td>\n",
       "      <td>0.001857</td>\n",
       "      <td>19.200001</td>\n",
       "      <td>0</td>\n",
       "    </tr>\n",
       "    <tr>\n",
       "      <th>3</th>\n",
       "      <td>2010-07-02</td>\n",
       "      <td>23.000000</td>\n",
       "      <td>23.100000</td>\n",
       "      <td>18.709999</td>\n",
       "      <td>19.200001</td>\n",
       "      <td>19.200001</td>\n",
       "      <td>5139800</td>\n",
       "      <td>-0.125683</td>\n",
       "      <td>0.008629</td>\n",
       "      <td>0.014094</td>\n",
       "      <td>0.014708</td>\n",
       "      <td>0.001857</td>\n",
       "      <td>16.110001</td>\n",
       "      <td>0</td>\n",
       "    </tr>\n",
       "    <tr>\n",
       "      <th>4</th>\n",
       "      <td>2010-07-06</td>\n",
       "      <td>20.000000</td>\n",
       "      <td>20.000000</td>\n",
       "      <td>15.830000</td>\n",
       "      <td>16.110001</td>\n",
       "      <td>16.110001</td>\n",
       "      <td>6866900</td>\n",
       "      <td>-0.160937</td>\n",
       "      <td>0.008629</td>\n",
       "      <td>0.014094</td>\n",
       "      <td>0.014708</td>\n",
       "      <td>0.001857</td>\n",
       "      <td>15.800000</td>\n",
       "      <td>0</td>\n",
       "    </tr>\n",
       "    <tr>\n",
       "      <th>5</th>\n",
       "      <td>2010-07-07</td>\n",
       "      <td>16.400000</td>\n",
       "      <td>16.629999</td>\n",
       "      <td>14.980000</td>\n",
       "      <td>15.800000</td>\n",
       "      <td>15.800000</td>\n",
       "      <td>6921700</td>\n",
       "      <td>-0.019243</td>\n",
       "      <td>0.008629</td>\n",
       "      <td>0.014094</td>\n",
       "      <td>0.014708</td>\n",
       "      <td>0.001857</td>\n",
       "      <td>17.459999</td>\n",
       "      <td>1</td>\n",
       "    </tr>\n",
       "    <tr>\n",
       "      <th>6</th>\n",
       "      <td>2010-07-08</td>\n",
       "      <td>16.139999</td>\n",
       "      <td>17.520000</td>\n",
       "      <td>15.570000</td>\n",
       "      <td>17.459999</td>\n",
       "      <td>17.459999</td>\n",
       "      <td>7711400</td>\n",
       "      <td>0.105063</td>\n",
       "      <td>0.008629</td>\n",
       "      <td>0.014094</td>\n",
       "      <td>0.014708</td>\n",
       "      <td>0.001857</td>\n",
       "      <td>17.400000</td>\n",
       "      <td>0</td>\n",
       "    </tr>\n",
       "    <tr>\n",
       "      <th>7</th>\n",
       "      <td>2010-07-09</td>\n",
       "      <td>17.580000</td>\n",
       "      <td>17.900000</td>\n",
       "      <td>16.549999</td>\n",
       "      <td>17.400000</td>\n",
       "      <td>17.400000</td>\n",
       "      <td>4050600</td>\n",
       "      <td>-0.003436</td>\n",
       "      <td>0.008629</td>\n",
       "      <td>0.014094</td>\n",
       "      <td>0.014708</td>\n",
       "      <td>0.001857</td>\n",
       "      <td>17.049999</td>\n",
       "      <td>0</td>\n",
       "    </tr>\n",
       "    <tr>\n",
       "      <th>8</th>\n",
       "      <td>2010-07-12</td>\n",
       "      <td>17.950001</td>\n",
       "      <td>18.070000</td>\n",
       "      <td>17.000000</td>\n",
       "      <td>17.049999</td>\n",
       "      <td>17.049999</td>\n",
       "      <td>2202500</td>\n",
       "      <td>-0.020115</td>\n",
       "      <td>0.008629</td>\n",
       "      <td>0.014094</td>\n",
       "      <td>0.014708</td>\n",
       "      <td>0.001857</td>\n",
       "      <td>18.139999</td>\n",
       "      <td>1</td>\n",
       "    </tr>\n",
       "    <tr>\n",
       "      <th>9</th>\n",
       "      <td>2010-07-13</td>\n",
       "      <td>17.389999</td>\n",
       "      <td>18.639999</td>\n",
       "      <td>16.900000</td>\n",
       "      <td>18.139999</td>\n",
       "      <td>18.139999</td>\n",
       "      <td>2680100</td>\n",
       "      <td>0.063930</td>\n",
       "      <td>0.008629</td>\n",
       "      <td>0.014094</td>\n",
       "      <td>0.014708</td>\n",
       "      <td>0.001857</td>\n",
       "      <td>19.840000</td>\n",
       "      <td>1</td>\n",
       "    </tr>\n",
       "    <tr>\n",
       "      <th>10</th>\n",
       "      <td>2010-07-14</td>\n",
       "      <td>17.940001</td>\n",
       "      <td>20.150000</td>\n",
       "      <td>17.760000</td>\n",
       "      <td>19.840000</td>\n",
       "      <td>19.840000</td>\n",
       "      <td>4195200</td>\n",
       "      <td>0.093716</td>\n",
       "      <td>0.008629</td>\n",
       "      <td>0.014094</td>\n",
       "      <td>0.014708</td>\n",
       "      <td>0.001857</td>\n",
       "      <td>19.889999</td>\n",
       "      <td>1</td>\n",
       "    </tr>\n",
       "  </tbody>\n",
       "</table>\n",
       "</div>"
      ],
      "text/plain": [
       "          Date       Open       High        Low      Close  Adj Close  \\\n",
       "1   2010-06-30  25.790001  30.420000  23.299999  23.830000  23.830000   \n",
       "2   2010-07-01  25.000000  25.920000  20.270000  21.959999  21.959999   \n",
       "3   2010-07-02  23.000000  23.100000  18.709999  19.200001  19.200001   \n",
       "4   2010-07-06  20.000000  20.000000  15.830000  16.110001  16.110001   \n",
       "5   2010-07-07  16.400000  16.629999  14.980000  15.800000  15.800000   \n",
       "6   2010-07-08  16.139999  17.520000  15.570000  17.459999  17.459999   \n",
       "7   2010-07-09  17.580000  17.900000  16.549999  17.400000  17.400000   \n",
       "8   2010-07-12  17.950001  18.070000  17.000000  17.049999  17.049999   \n",
       "9   2010-07-13  17.389999  18.639999  16.900000  18.139999  18.139999   \n",
       "10  2010-07-14  17.940001  20.150000  17.760000  19.840000  19.840000   \n",
       "\n",
       "      Volume  Percentage change in price  tesla_1_day_autocorr  \\\n",
       "1   17187100                   -0.002511              0.008629   \n",
       "2    8218800                   -0.078473              0.008629   \n",
       "3    5139800                   -0.125683              0.008629   \n",
       "4    6866900                   -0.160937              0.008629   \n",
       "5    6921700                   -0.019243              0.008629   \n",
       "6    7711400                    0.105063              0.008629   \n",
       "7    4050600                   -0.003436              0.008629   \n",
       "8    2202500                   -0.020115              0.008629   \n",
       "9    2680100                    0.063930              0.008629   \n",
       "10   4195200                    0.093716              0.008629   \n",
       "\n",
       "    tesla_10_day_autocorr  tesla_30_day_autocorr  Tesla_90_day_autocorr  \\\n",
       "1                0.014094               0.014708               0.001857   \n",
       "2                0.014094               0.014708               0.001857   \n",
       "3                0.014094               0.014708               0.001857   \n",
       "4                0.014094               0.014708               0.001857   \n",
       "5                0.014094               0.014708               0.001857   \n",
       "6                0.014094               0.014708               0.001857   \n",
       "7                0.014094               0.014708               0.001857   \n",
       "8                0.014094               0.014708               0.001857   \n",
       "9                0.014094               0.014708               0.001857   \n",
       "10               0.014094               0.014708               0.001857   \n",
       "\n",
       "    1_day_close  Price Up Tomorrow  \n",
       "1     21.959999                  0  \n",
       "2     19.200001                  0  \n",
       "3     16.110001                  0  \n",
       "4     15.800000                  0  \n",
       "5     17.459999                  1  \n",
       "6     17.400000                  0  \n",
       "7     17.049999                  0  \n",
       "8     18.139999                  1  \n",
       "9     19.840000                  1  \n",
       "10    19.889999                  1  "
      ]
     },
     "execution_count": 34,
     "metadata": {},
     "output_type": "execute_result"
    }
   ],
   "source": [
    "tesla.head(10)"
   ]
  },
  {
   "cell_type": "code",
   "execution_count": 35,
   "metadata": {},
   "outputs": [],
   "source": [
    "x = tesla[['Open', 'High','Low','Close', 'Volume']]\n",
    "y = tesla['Price Up Tomorrow']\n",
    "\n",
    "x_train, x_test, y_train, y_test = train_test_split(x, y, train_size=0.75, shuffle=True)"
   ]
  },
  {
   "cell_type": "code",
   "execution_count": 36,
   "metadata": {},
   "outputs": [
    {
     "data": {
      "text/plain": [
       "count     2414\n",
       "unique       2\n",
       "top       True\n",
       "freq      1235\n",
       "Name: Price Up Tomorrow, dtype: object"
      ]
     },
     "execution_count": 36,
     "metadata": {},
     "output_type": "execute_result"
    }
   ],
   "source": [
    "(tesla['Price Up Tomorrow']==1).describe()"
   ]
  },
  {
   "cell_type": "code",
   "execution_count": 43,
   "metadata": {},
   "outputs": [],
   "source": [
    "scaler = StandardScaler()  # standardize our variables\n",
    "x_train = scaler.fit_transform(x_train)\n",
    "x_test = scaler.transform(x_test)"
   ]
  },
  {
   "cell_type": "code",
   "execution_count": 44,
   "metadata": {},
   "outputs": [],
   "source": [
    "neural_model = MLPClassifier(solver='adam', alpha=0.0001, hidden_layer_sizes=(5,2)) "
   ]
  },
  {
   "cell_type": "code",
   "execution_count": 45,
   "metadata": {},
   "outputs": [
    {
     "name": "stdout",
     "output_type": "stream",
     "text": [
      "Model accuracy: 0.5016574585635359\n"
     ]
    }
   ],
   "source": [
    "neural_model.fit(x_train, y_train)\n",
    "print(f'Model accuracy: {neural_model.score(x_train, y_train)}')"
   ]
  },
  {
   "cell_type": "code",
   "execution_count": 46,
   "metadata": {},
   "outputs": [],
   "source": [
    "neural_predict = neural_model.predict(x_test)"
   ]
  },
  {
   "cell_type": "code",
   "execution_count": 47,
   "metadata": {},
   "outputs": [
    {
     "name": "stdout",
     "output_type": "stream",
     "text": [
      "neural network model accuracy is: 0.5016574585635359\n",
      "neural network f1 score is: 0.5391566265060241\n",
      "neural network precision is: 0.5264705882352941\n",
      "neural network recall is: 0.5524691358024691\n"
     ]
    }
   ],
   "source": [
    "print(f'neural network model accuracy is: {neural_model.score(x_train, y_train)}')\n",
    "print(f'neural network f1 score is: {f1_score(y_test, neural_predict)}')\n",
    "print(f'neural network precision is: {precision_score(y_test, neural_predict)}')\n",
    "print(f'neural network recall is: {recall_score(y_test, neural_predict)}')"
   ]
  },
  {
   "cell_type": "code",
   "execution_count": 48,
   "metadata": {},
   "outputs": [
    {
     "data": {
      "image/png": "[encoded data removed]",
      "text/plain": [
       "<Figure size 432x432 with 1 Axes>"
      ]
     },
     "metadata": {
      "needs_background": "light"
     },
     "output_type": "display_data"
    }
   ],
   "source": [
    "neural_matrix = confusion_matrix(y_test,neural_predict)\n",
    "plt.subplots(figsize=(6, 6))\n",
    "sns.heatmap(neural_matrix, annot=True, cbar=False, cmap='YlGnBu',linewidth=1,fmt=\"d\")\n",
    "plt.ylabel('Actual Value')\n",
    "plt.xlabel('Predicted Value')\n",
    "plt.title('Confusion Matrix Tesla');"
   ]
  },
  {
   "cell_type": "markdown",
   "metadata": {},
   "source": [
    "#1 = Price Up Tomorrow, 0 = Price Down Tomorrow"
   ]
  },
  {
   "cell_type": "markdown",
   "metadata": {},
   "source": [
    "Tesla analysis does not provide any evidence to reject the null hypothesis\n"
   ]
  },
  {
   "cell_type": "markdown",
   "metadata": {},
   "source": [
    "AMD Stock Analysis"
   ]
  },
  {
   "cell_type": "code",
   "execution_count": 29,
   "metadata": {},
   "outputs": [],
   "source": [
    "amd = pd.read_csv('AMD.csv')"
   ]
  },
  {
   "cell_type": "code",
   "execution_count": 30,
   "metadata": {},
   "outputs": [
    {
     "data": {
      "text/html": [
       "<div>\n",
       "<style scoped>\n",
       "    .dataframe tbody tr th:only-of-type {\n",
       "        vertical-align: middle;\n",
       "    }\n",
       "\n",
       "    .dataframe tbody tr th {\n",
       "        vertical-align: top;\n",
       "    }\n",
       "\n",
       "    .dataframe thead th {\n",
       "        text-align: right;\n",
       "    }\n",
       "</style>\n",
       "<table border=\"1\" class=\"dataframe\">\n",
       "  <thead>\n",
       "    <tr style=\"text-align: right;\">\n",
       "      <th></th>\n",
       "      <th>Open</th>\n",
       "      <th>High</th>\n",
       "      <th>Low</th>\n",
       "      <th>Close</th>\n",
       "      <th>Adj Close</th>\n",
       "      <th>Volume</th>\n",
       "    </tr>\n",
       "  </thead>\n",
       "  <tbody>\n",
       "    <tr>\n",
       "      <th>count</th>\n",
       "      <td>2335.000000</td>\n",
       "      <td>2335.000000</td>\n",
       "      <td>2335.000000</td>\n",
       "      <td>2335.000000</td>\n",
       "      <td>2335.000000</td>\n",
       "      <td>2.335000e+03</td>\n",
       "    </tr>\n",
       "    <tr>\n",
       "      <th>mean</th>\n",
       "      <td>6.434732</td>\n",
       "      <td>6.563961</td>\n",
       "      <td>6.300887</td>\n",
       "      <td>6.433221</td>\n",
       "      <td>6.433221</td>\n",
       "      <td>3.107491e+07</td>\n",
       "    </tr>\n",
       "    <tr>\n",
       "      <th>std</th>\n",
       "      <td>3.872391</td>\n",
       "      <td>3.954999</td>\n",
       "      <td>3.792914</td>\n",
       "      <td>3.879124</td>\n",
       "      <td>3.879124</td>\n",
       "      <td>2.791149e+07</td>\n",
       "    </tr>\n",
       "    <tr>\n",
       "      <th>min</th>\n",
       "      <td>1.620000</td>\n",
       "      <td>1.690000</td>\n",
       "      <td>1.610000</td>\n",
       "      <td>1.620000</td>\n",
       "      <td>1.620000</td>\n",
       "      <td>0.000000e+00</td>\n",
       "    </tr>\n",
       "    <tr>\n",
       "      <th>25%</th>\n",
       "      <td>3.480000</td>\n",
       "      <td>3.550000</td>\n",
       "      <td>3.405000</td>\n",
       "      <td>3.465000</td>\n",
       "      <td>3.465000</td>\n",
       "      <td>1.421670e+07</td>\n",
       "    </tr>\n",
       "    <tr>\n",
       "      <th>50%</th>\n",
       "      <td>5.580000</td>\n",
       "      <td>5.720000</td>\n",
       "      <td>5.450000</td>\n",
       "      <td>5.600000</td>\n",
       "      <td>5.600000</td>\n",
       "      <td>2.228020e+07</td>\n",
       "    </tr>\n",
       "    <tr>\n",
       "      <th>75%</th>\n",
       "      <td>8.555000</td>\n",
       "      <td>8.710000</td>\n",
       "      <td>8.375000</td>\n",
       "      <td>8.565000</td>\n",
       "      <td>8.565000</td>\n",
       "      <td>3.776905e+07</td>\n",
       "    </tr>\n",
       "    <tr>\n",
       "      <th>max</th>\n",
       "      <td>25.510000</td>\n",
       "      <td>27.299999</td>\n",
       "      <td>24.629999</td>\n",
       "      <td>25.260000</td>\n",
       "      <td>25.260000</td>\n",
       "      <td>3.250584e+08</td>\n",
       "    </tr>\n",
       "  </tbody>\n",
       "</table>\n",
       "</div>"
      ],
      "text/plain": [
       "              Open         High          Low        Close    Adj Close  \\\n",
       "count  2335.000000  2335.000000  2335.000000  2335.000000  2335.000000   \n",
       "mean      6.434732     6.563961     6.300887     6.433221     6.433221   \n",
       "std       3.872391     3.954999     3.792914     3.879124     3.879124   \n",
       "min       1.620000     1.690000     1.610000     1.620000     1.620000   \n",
       "25%       3.480000     3.550000     3.405000     3.465000     3.465000   \n",
       "50%       5.580000     5.720000     5.450000     5.600000     5.600000   \n",
       "75%       8.555000     8.710000     8.375000     8.565000     8.565000   \n",
       "max      25.510000    27.299999    24.629999    25.260000    25.260000   \n",
       "\n",
       "             Volume  \n",
       "count  2.335000e+03  \n",
       "mean   3.107491e+07  \n",
       "std    2.791149e+07  \n",
       "min    0.000000e+00  \n",
       "25%    1.421670e+07  \n",
       "50%    2.228020e+07  \n",
       "75%    3.776905e+07  \n",
       "max    3.250584e+08  "
      ]
     },
     "execution_count": 30,
     "metadata": {},
     "output_type": "execute_result"
    }
   ],
   "source": [
    "amd.describe()"
   ]
  },
  {
   "cell_type": "code",
   "execution_count": 31,
   "metadata": {},
   "outputs": [
    {
     "data": {
      "text/html": [
       "<div>\n",
       "<style scoped>\n",
       "    .dataframe tbody tr th:only-of-type {\n",
       "        vertical-align: middle;\n",
       "    }\n",
       "\n",
       "    .dataframe tbody tr th {\n",
       "        vertical-align: top;\n",
       "    }\n",
       "\n",
       "    .dataframe thead th {\n",
       "        text-align: right;\n",
       "    }\n",
       "</style>\n",
       "<table border=\"1\" class=\"dataframe\">\n",
       "  <thead>\n",
       "    <tr style=\"text-align: right;\">\n",
       "      <th></th>\n",
       "      <th>Date</th>\n",
       "      <th>Open</th>\n",
       "      <th>High</th>\n",
       "      <th>Low</th>\n",
       "      <th>Close</th>\n",
       "      <th>Adj Close</th>\n",
       "      <th>Volume</th>\n",
       "    </tr>\n",
       "  </thead>\n",
       "  <tbody>\n",
       "    <tr>\n",
       "      <th>0</th>\n",
       "      <td>2009-05-22</td>\n",
       "      <td>4.43</td>\n",
       "      <td>4.43</td>\n",
       "      <td>4.25</td>\n",
       "      <td>4.26</td>\n",
       "      <td>4.26</td>\n",
       "      <td>8274300</td>\n",
       "    </tr>\n",
       "    <tr>\n",
       "      <th>1</th>\n",
       "      <td>2009-05-26</td>\n",
       "      <td>4.26</td>\n",
       "      <td>4.57</td>\n",
       "      <td>4.23</td>\n",
       "      <td>4.53</td>\n",
       "      <td>4.53</td>\n",
       "      <td>16094300</td>\n",
       "    </tr>\n",
       "    <tr>\n",
       "      <th>2</th>\n",
       "      <td>2009-05-27</td>\n",
       "      <td>4.57</td>\n",
       "      <td>4.80</td>\n",
       "      <td>4.55</td>\n",
       "      <td>4.71</td>\n",
       "      <td>4.71</td>\n",
       "      <td>21512600</td>\n",
       "    </tr>\n",
       "    <tr>\n",
       "      <th>3</th>\n",
       "      <td>2009-05-28</td>\n",
       "      <td>4.75</td>\n",
       "      <td>4.84</td>\n",
       "      <td>4.54</td>\n",
       "      <td>4.70</td>\n",
       "      <td>4.70</td>\n",
       "      <td>18383900</td>\n",
       "    </tr>\n",
       "    <tr>\n",
       "      <th>4</th>\n",
       "      <td>2009-05-29</td>\n",
       "      <td>4.71</td>\n",
       "      <td>4.78</td>\n",
       "      <td>4.38</td>\n",
       "      <td>4.54</td>\n",
       "      <td>4.54</td>\n",
       "      <td>24539700</td>\n",
       "    </tr>\n",
       "  </tbody>\n",
       "</table>\n",
       "</div>"
      ],
      "text/plain": [
       "         Date  Open  High   Low  Close  Adj Close    Volume\n",
       "0  2009-05-22  4.43  4.43  4.25   4.26       4.26   8274300\n",
       "1  2009-05-26  4.26  4.57  4.23   4.53       4.53  16094300\n",
       "2  2009-05-27  4.57  4.80  4.55   4.71       4.71  21512600\n",
       "3  2009-05-28  4.75  4.84  4.54   4.70       4.70  18383900\n",
       "4  2009-05-29  4.71  4.78  4.38   4.54       4.54  24539700"
      ]
     },
     "execution_count": 31,
     "metadata": {},
     "output_type": "execute_result"
    }
   ],
   "source": [
    "amd.head(5)"
   ]
  },
  {
   "cell_type": "code",
   "execution_count": 32,
   "metadata": {},
   "outputs": [
    {
     "data": {
      "text/plain": [
       "Date         0\n",
       "Open         0\n",
       "High         0\n",
       "Low          0\n",
       "Close        0\n",
       "Adj Close    0\n",
       "Volume       0\n",
       "dtype: int64"
      ]
     },
     "execution_count": 32,
     "metadata": {},
     "output_type": "execute_result"
    }
   ],
   "source": [
    "amd.isna().sum()"
   ]
  },
  {
   "cell_type": "code",
   "execution_count": 33,
   "metadata": {},
   "outputs": [
    {
     "data": {
      "text/html": [
       "<div>\n",
       "<style scoped>\n",
       "    .dataframe tbody tr th:only-of-type {\n",
       "        vertical-align: middle;\n",
       "    }\n",
       "\n",
       "    .dataframe tbody tr th {\n",
       "        vertical-align: top;\n",
       "    }\n",
       "\n",
       "    .dataframe thead th {\n",
       "        text-align: right;\n",
       "    }\n",
       "</style>\n",
       "<table border=\"1\" class=\"dataframe\">\n",
       "  <thead>\n",
       "    <tr style=\"text-align: right;\">\n",
       "      <th></th>\n",
       "      <th>Date</th>\n",
       "      <th>Open</th>\n",
       "      <th>High</th>\n",
       "      <th>Low</th>\n",
       "      <th>Close</th>\n",
       "      <th>Adj Close</th>\n",
       "      <th>Volume</th>\n",
       "    </tr>\n",
       "  </thead>\n",
       "  <tbody>\n",
       "    <tr>\n",
       "      <th>0</th>\n",
       "      <td>2009-05-22</td>\n",
       "      <td>4.43</td>\n",
       "      <td>4.43</td>\n",
       "      <td>4.25</td>\n",
       "      <td>4.26</td>\n",
       "      <td>4.26</td>\n",
       "      <td>8274300</td>\n",
       "    </tr>\n",
       "    <tr>\n",
       "      <th>1</th>\n",
       "      <td>2009-05-26</td>\n",
       "      <td>4.26</td>\n",
       "      <td>4.57</td>\n",
       "      <td>4.23</td>\n",
       "      <td>4.53</td>\n",
       "      <td>4.53</td>\n",
       "      <td>16094300</td>\n",
       "    </tr>\n",
       "    <tr>\n",
       "      <th>2</th>\n",
       "      <td>2009-05-27</td>\n",
       "      <td>4.57</td>\n",
       "      <td>4.80</td>\n",
       "      <td>4.55</td>\n",
       "      <td>4.71</td>\n",
       "      <td>4.71</td>\n",
       "      <td>21512600</td>\n",
       "    </tr>\n",
       "    <tr>\n",
       "      <th>3</th>\n",
       "      <td>2009-05-28</td>\n",
       "      <td>4.75</td>\n",
       "      <td>4.84</td>\n",
       "      <td>4.54</td>\n",
       "      <td>4.70</td>\n",
       "      <td>4.70</td>\n",
       "      <td>18383900</td>\n",
       "    </tr>\n",
       "    <tr>\n",
       "      <th>4</th>\n",
       "      <td>2009-05-29</td>\n",
       "      <td>4.71</td>\n",
       "      <td>4.78</td>\n",
       "      <td>4.38</td>\n",
       "      <td>4.54</td>\n",
       "      <td>4.54</td>\n",
       "      <td>24539700</td>\n",
       "    </tr>\n",
       "    <tr>\n",
       "      <th>5</th>\n",
       "      <td>2009-06-01</td>\n",
       "      <td>4.69</td>\n",
       "      <td>4.90</td>\n",
       "      <td>4.64</td>\n",
       "      <td>4.73</td>\n",
       "      <td>4.73</td>\n",
       "      <td>26633200</td>\n",
       "    </tr>\n",
       "    <tr>\n",
       "      <th>6</th>\n",
       "      <td>2009-06-02</td>\n",
       "      <td>4.68</td>\n",
       "      <td>4.70</td>\n",
       "      <td>4.55</td>\n",
       "      <td>4.56</td>\n",
       "      <td>4.56</td>\n",
       "      <td>24950700</td>\n",
       "    </tr>\n",
       "    <tr>\n",
       "      <th>7</th>\n",
       "      <td>2009-06-03</td>\n",
       "      <td>4.55</td>\n",
       "      <td>4.60</td>\n",
       "      <td>4.34</td>\n",
       "      <td>4.48</td>\n",
       "      <td>4.48</td>\n",
       "      <td>19087100</td>\n",
       "    </tr>\n",
       "    <tr>\n",
       "      <th>8</th>\n",
       "      <td>2009-06-04</td>\n",
       "      <td>4.57</td>\n",
       "      <td>4.74</td>\n",
       "      <td>4.54</td>\n",
       "      <td>4.65</td>\n",
       "      <td>4.65</td>\n",
       "      <td>19728300</td>\n",
       "    </tr>\n",
       "    <tr>\n",
       "      <th>9</th>\n",
       "      <td>2009-06-05</td>\n",
       "      <td>4.84</td>\n",
       "      <td>4.87</td>\n",
       "      <td>4.61</td>\n",
       "      <td>4.63</td>\n",
       "      <td>4.63</td>\n",
       "      <td>18775200</td>\n",
       "    </tr>\n",
       "  </tbody>\n",
       "</table>\n",
       "</div>"
      ],
      "text/plain": [
       "         Date  Open  High   Low  Close  Adj Close    Volume\n",
       "0  2009-05-22  4.43  4.43  4.25   4.26       4.26   8274300\n",
       "1  2009-05-26  4.26  4.57  4.23   4.53       4.53  16094300\n",
       "2  2009-05-27  4.57  4.80  4.55   4.71       4.71  21512600\n",
       "3  2009-05-28  4.75  4.84  4.54   4.70       4.70  18383900\n",
       "4  2009-05-29  4.71  4.78  4.38   4.54       4.54  24539700\n",
       "5  2009-06-01  4.69  4.90  4.64   4.73       4.73  26633200\n",
       "6  2009-06-02  4.68  4.70  4.55   4.56       4.56  24950700\n",
       "7  2009-06-03  4.55  4.60  4.34   4.48       4.48  19087100\n",
       "8  2009-06-04  4.57  4.74  4.54   4.65       4.65  19728300\n",
       "9  2009-06-05  4.84  4.87  4.61   4.63       4.63  18775200"
      ]
     },
     "execution_count": 33,
     "metadata": {},
     "output_type": "execute_result"
    }
   ],
   "source": [
    "amd.head(10)"
   ]
  },
  {
   "cell_type": "code",
   "execution_count": 34,
   "metadata": {},
   "outputs": [],
   "source": [
    "amd['Percentage change in price'] = (amd['Close']/amd['Close'].shift(1))-1"
   ]
  },
  {
   "cell_type": "code",
   "execution_count": 35,
   "metadata": {},
   "outputs": [
    {
     "data": {
      "text/plain": [
       "count    2334.000000\n",
       "mean        0.001393\n",
       "std         0.035922\n",
       "min        -0.242291\n",
       "25%        -0.016622\n",
       "50%         0.000000\n",
       "75%         0.018172\n",
       "max         0.522901\n",
       "Name: Percentage change in price, dtype: float64"
      ]
     },
     "execution_count": 35,
     "metadata": {},
     "output_type": "execute_result"
    }
   ],
   "source": [
    "amd['Percentage change in price'].describe()"
   ]
  },
  {
   "cell_type": "code",
   "execution_count": 36,
   "metadata": {},
   "outputs": [],
   "source": [
    "amd_auto_corr = pd.Series(amd['Percentage change in price'])"
   ]
  },
  {
   "cell_type": "code",
   "execution_count": 37,
   "metadata": {},
   "outputs": [
    {
     "name": "stdout",
     "output_type": "stream",
     "text": [
      "Amd autocorrelation for percent change in price at 1 day lag: 0.004431876351059422\n",
      "Amd autocorrelation for percent change in price at 10 day lag: 0.04945694510526541\n",
      "Amd autocorrelation for percent change in price at 30 day lag: -0.024917746546279724\n",
      "Amd autocorrelation for percent change in price at 90 day lag: -0.02975236121221433\n"
     ]
    }
   ],
   "source": [
    "print(f'Amd autocorrelation for percent change in price at 1 day lag: {amd_auto_corr.autocorr(lag=1)}')\n",
    "print(f'Amd autocorrelation for percent change in price at 10 day lag: {amd_auto_corr.autocorr(lag=10)}')\n",
    "print(f'Amd autocorrelation for percent change in price at 30 day lag: {amd_auto_corr.autocorr(lag=30)}')\n",
    "print(f'Amd autocorrelation for percent change in price at 90 day lag: {amd_auto_corr.autocorr(lag=90)}')"
   ]
  },
  {
   "cell_type": "code",
   "execution_count": 38,
   "metadata": {},
   "outputs": [],
   "source": [
    "amd['amd_1_day_autocorr'] = amd_auto_corr.autocorr(lag=1)\n",
    "amd['amd_10_day_autocorr'] = amd_auto_corr.autocorr(lag=10)\n",
    "amd['amd_30_day_autocorr'] = amd_auto_corr.autocorr(lag=30)\n",
    "amd['amd_90_day_autocorr'] = amd_auto_corr.autocorr(lag=90)"
   ]
  },
  {
   "cell_type": "code",
   "execution_count": 39,
   "metadata": {},
   "outputs": [],
   "source": [
    "amd['1_day_close'] = amd['Close'].shift(-1)"
   ]
  },
  {
   "cell_type": "code",
   "execution_count": 40,
   "metadata": {},
   "outputs": [],
   "source": [
    "amd['Price Up Tomorrow'] = np.where(amd['Close'].shift(-1)>amd['Close'], 1, 0) #Price Up Tomorrow tomorrow is True (1) if tomorrows \n",
    "#closing price is higher than todays. This will be our dependent variable we are trying to predict for our classficiation model"
   ]
  },
  {
   "cell_type": "code",
   "execution_count": 41,
   "metadata": {},
   "outputs": [],
   "source": [
    "amd.dropna(axis=0, inplace=True)"
   ]
  },
  {
   "cell_type": "code",
   "execution_count": 42,
   "metadata": {},
   "outputs": [
    {
     "data": {
      "text/html": [
       "<div>\n",
       "<style scoped>\n",
       "    .dataframe tbody tr th:only-of-type {\n",
       "        vertical-align: middle;\n",
       "    }\n",
       "\n",
       "    .dataframe tbody tr th {\n",
       "        vertical-align: top;\n",
       "    }\n",
       "\n",
       "    .dataframe thead th {\n",
       "        text-align: right;\n",
       "    }\n",
       "</style>\n",
       "<table border=\"1\" class=\"dataframe\">\n",
       "  <thead>\n",
       "    <tr style=\"text-align: right;\">\n",
       "      <th></th>\n",
       "      <th>Date</th>\n",
       "      <th>Open</th>\n",
       "      <th>High</th>\n",
       "      <th>Low</th>\n",
       "      <th>Close</th>\n",
       "      <th>Adj Close</th>\n",
       "      <th>Volume</th>\n",
       "      <th>Percentage change in price</th>\n",
       "      <th>amd_1_day_autocorr</th>\n",
       "      <th>amd_10_day_autocorr</th>\n",
       "      <th>amd_30_day_autocorr</th>\n",
       "      <th>amd_90_day_autocorr</th>\n",
       "      <th>1_day_close</th>\n",
       "      <th>Price Up Tomorrow</th>\n",
       "    </tr>\n",
       "  </thead>\n",
       "  <tbody>\n",
       "    <tr>\n",
       "      <th>1</th>\n",
       "      <td>2009-05-26</td>\n",
       "      <td>4.26</td>\n",
       "      <td>4.57</td>\n",
       "      <td>4.23</td>\n",
       "      <td>4.53</td>\n",
       "      <td>4.53</td>\n",
       "      <td>16094300</td>\n",
       "      <td>0.063380</td>\n",
       "      <td>0.004432</td>\n",
       "      <td>0.049457</td>\n",
       "      <td>-0.024918</td>\n",
       "      <td>-0.029752</td>\n",
       "      <td>4.71</td>\n",
       "      <td>1</td>\n",
       "    </tr>\n",
       "    <tr>\n",
       "      <th>2</th>\n",
       "      <td>2009-05-27</td>\n",
       "      <td>4.57</td>\n",
       "      <td>4.80</td>\n",
       "      <td>4.55</td>\n",
       "      <td>4.71</td>\n",
       "      <td>4.71</td>\n",
       "      <td>21512600</td>\n",
       "      <td>0.039735</td>\n",
       "      <td>0.004432</td>\n",
       "      <td>0.049457</td>\n",
       "      <td>-0.024918</td>\n",
       "      <td>-0.029752</td>\n",
       "      <td>4.70</td>\n",
       "      <td>0</td>\n",
       "    </tr>\n",
       "    <tr>\n",
       "      <th>3</th>\n",
       "      <td>2009-05-28</td>\n",
       "      <td>4.75</td>\n",
       "      <td>4.84</td>\n",
       "      <td>4.54</td>\n",
       "      <td>4.70</td>\n",
       "      <td>4.70</td>\n",
       "      <td>18383900</td>\n",
       "      <td>-0.002123</td>\n",
       "      <td>0.004432</td>\n",
       "      <td>0.049457</td>\n",
       "      <td>-0.024918</td>\n",
       "      <td>-0.029752</td>\n",
       "      <td>4.54</td>\n",
       "      <td>0</td>\n",
       "    </tr>\n",
       "    <tr>\n",
       "      <th>4</th>\n",
       "      <td>2009-05-29</td>\n",
       "      <td>4.71</td>\n",
       "      <td>4.78</td>\n",
       "      <td>4.38</td>\n",
       "      <td>4.54</td>\n",
       "      <td>4.54</td>\n",
       "      <td>24539700</td>\n",
       "      <td>-0.034043</td>\n",
       "      <td>0.004432</td>\n",
       "      <td>0.049457</td>\n",
       "      <td>-0.024918</td>\n",
       "      <td>-0.029752</td>\n",
       "      <td>4.73</td>\n",
       "      <td>1</td>\n",
       "    </tr>\n",
       "    <tr>\n",
       "      <th>5</th>\n",
       "      <td>2009-06-01</td>\n",
       "      <td>4.69</td>\n",
       "      <td>4.90</td>\n",
       "      <td>4.64</td>\n",
       "      <td>4.73</td>\n",
       "      <td>4.73</td>\n",
       "      <td>26633200</td>\n",
       "      <td>0.041850</td>\n",
       "      <td>0.004432</td>\n",
       "      <td>0.049457</td>\n",
       "      <td>-0.024918</td>\n",
       "      <td>-0.029752</td>\n",
       "      <td>4.56</td>\n",
       "      <td>0</td>\n",
       "    </tr>\n",
       "  </tbody>\n",
       "</table>\n",
       "</div>"
      ],
      "text/plain": [
       "         Date  Open  High   Low  Close  Adj Close    Volume  \\\n",
       "1  2009-05-26  4.26  4.57  4.23   4.53       4.53  16094300   \n",
       "2  2009-05-27  4.57  4.80  4.55   4.71       4.71  21512600   \n",
       "3  2009-05-28  4.75  4.84  4.54   4.70       4.70  18383900   \n",
       "4  2009-05-29  4.71  4.78  4.38   4.54       4.54  24539700   \n",
       "5  2009-06-01  4.69  4.90  4.64   4.73       4.73  26633200   \n",
       "\n",
       "   Percentage change in price  amd_1_day_autocorr  amd_10_day_autocorr  \\\n",
       "1                    0.063380            0.004432             0.049457   \n",
       "2                    0.039735            0.004432             0.049457   \n",
       "3                   -0.002123            0.004432             0.049457   \n",
       "4                   -0.034043            0.004432             0.049457   \n",
       "5                    0.041850            0.004432             0.049457   \n",
       "\n",
       "   amd_30_day_autocorr  amd_90_day_autocorr  1_day_close  Price Up Tomorrow  \n",
       "1            -0.024918            -0.029752         4.71                  1  \n",
       "2            -0.024918            -0.029752         4.70                  0  \n",
       "3            -0.024918            -0.029752         4.54                  0  \n",
       "4            -0.024918            -0.029752         4.73                  1  \n",
       "5            -0.024918            -0.029752         4.56                  0  "
      ]
     },
     "execution_count": 42,
     "metadata": {},
     "output_type": "execute_result"
    }
   ],
   "source": [
    "amd.head()"
   ]
  },
  {
   "cell_type": "code",
   "execution_count": 43,
   "metadata": {},
   "outputs": [
    {
     "name": "stdout",
     "output_type": "stream",
     "text": [
      "<class 'pandas.core.frame.DataFrame'>\n",
      "Int64Index: 2333 entries, 1 to 2333\n",
      "Data columns (total 14 columns):\n",
      " #   Column                      Non-Null Count  Dtype  \n",
      "---  ------                      --------------  -----  \n",
      " 0   Date                        2333 non-null   object \n",
      " 1   Open                        2333 non-null   float64\n",
      " 2   High                        2333 non-null   float64\n",
      " 3   Low                         2333 non-null   float64\n",
      " 4   Close                       2333 non-null   float64\n",
      " 5   Adj Close                   2333 non-null   float64\n",
      " 6   Volume                      2333 non-null   int64  \n",
      " 7   Percentage change in price  2333 non-null   float64\n",
      " 8   amd_1_day_autocorr          2333 non-null   float64\n",
      " 9   amd_10_day_autocorr         2333 non-null   float64\n",
      " 10  amd_30_day_autocorr         2333 non-null   float64\n",
      " 11  amd_90_day_autocorr         2333 non-null   float64\n",
      " 12  1_day_close                 2333 non-null   float64\n",
      " 13  Price Up Tomorrow           2333 non-null   int64  \n",
      "dtypes: float64(11), int64(2), object(1)\n",
      "memory usage: 273.4+ KB\n"
     ]
    }
   ],
   "source": [
    "amd.info()"
   ]
  },
  {
   "cell_type": "code",
   "execution_count": 44,
   "metadata": {},
   "outputs": [],
   "source": [
    "TRAIN_SPLIT = 1683"
   ]
  },
  {
   "cell_type": "code",
   "execution_count": 45,
   "metadata": {},
   "outputs": [],
   "source": [
    "tf.random.set_seed(13)"
   ]
  },
  {
   "cell_type": "code",
   "execution_count": 46,
   "metadata": {},
   "outputs": [
    {
     "data": {
      "text/plain": [
       "Date\n",
       "2009-05-26    0.063380\n",
       "2009-05-27    0.039735\n",
       "2009-05-28   -0.002123\n",
       "2009-05-29   -0.034043\n",
       "2009-06-01    0.041850\n",
       "Name: Percentage change in price, dtype: float64"
      ]
     },
     "execution_count": 46,
     "metadata": {},
     "output_type": "execute_result"
    }
   ],
   "source": [
    "uni_data = amd['Percentage change in price']\n",
    "uni_data.index = amd['Date']\n",
    "uni_data.head()"
   ]
  },
  {
   "cell_type": "code",
   "execution_count": 47,
   "metadata": {},
   "outputs": [
    {
     "data": {
      "text/plain": [
       "Text(0.5, 1.0, 'AMD 1 Day Price Movement')"
      ]
     },
     "execution_count": 47,
     "metadata": {},
     "output_type": "execute_result"
    },
    {
     "data": {
      "image/png": "[encoded data removed]",
      "text/plain": [
       "<Figure size 432x288 with 1 Axes>"
      ]
     },
     "metadata": {
      "needs_background": "light"
     },
     "output_type": "display_data"
    }
   ],
   "source": [
    "uni_data.plot(subplots=True)\n",
    "plt.title('AMD 1 Day Price Movement')"
   ]
  },
  {
   "cell_type": "code",
   "execution_count": 48,
   "metadata": {},
   "outputs": [],
   "source": [
    "uni_data = uni_data.values"
   ]
  },
  {
   "cell_type": "code",
   "execution_count": 49,
   "metadata": {},
   "outputs": [],
   "source": [
    "uni_train_mean = uni_data[:TRAIN_SPLIT].mean()\n",
    "uni_train_std = uni_data[:TRAIN_SPLIT].std()"
   ]
  },
  {
   "cell_type": "code",
   "execution_count": 50,
   "metadata": {},
   "outputs": [],
   "source": [
    "uni_data = (uni_data-uni_train_mean)/uni_train_std"
   ]
  },
  {
   "cell_type": "code",
   "execution_count": 51,
   "metadata": {},
   "outputs": [],
   "source": [
    "univariate_past_history = 30\n",
    "univariate_future_target = 0\n",
    "\n",
    "x_train_uni, y_train_uni = univariate_data(uni_data, 0, TRAIN_SPLIT,\n",
    "                                           univariate_past_history,\n",
    "                                           univariate_future_target)\n",
    "x_val_uni, y_val_uni = univariate_data(uni_data, TRAIN_SPLIT, None,\n",
    "                                       univariate_past_history,\n",
    "                                       univariate_future_target)"
   ]
  },
  {
   "cell_type": "code",
   "execution_count": 52,
   "metadata": {},
   "outputs": [],
   "source": [
    "BATCH_SIZE = 32\n",
    "\n",
    "train_univariate = tf.data.Dataset.from_tensor_slices((x_train_uni, y_train_uni))\n",
    "train_univariate = train_univariate.cache().shuffle(TRAIN_SPLIT).batch(BATCH_SIZE).repeat()\n",
    "\n",
    "val_univariate = tf.data.Dataset.from_tensor_slices((x_val_uni, y_val_uni))\n",
    "val_univariate = val_univariate.batch(BATCH_SIZE).repeat()"
   ]
  },
  {
   "cell_type": "code",
   "execution_count": 53,
   "metadata": {},
   "outputs": [],
   "source": [
    "amd_lstm_model = tf.keras.models.Sequential([\n",
    "    tf.keras.layers.LSTM(8, input_shape=x_train_uni.shape[-2:]),\n",
    "    tf.keras.layers.Dense(1)\n",
    "])\n",
    "amd_lstm_model.add(tf.keras.layers.Dropout(0.2))\n",
    "amd_lstm_model.add(tf.keras.layers.Activation('linear'))\n",
    "\n",
    "amd_lstm_model.compile(optimizer='adam', loss='mape')"
   ]
  },
  {
   "cell_type": "code",
   "execution_count": 78,
   "metadata": {},
   "outputs": [
    {
     "name": "stdout",
     "output_type": "stream",
     "text": [
      "Epoch 1/10\n",
      "500/500 [==============================] - 5s 9ms/step - loss: 104.9814 - val_loss: 100.9985\n",
      "Epoch 2/10\n",
      "500/500 [==============================] - 4s 9ms/step - loss: 98.5396 - val_loss: 99.7132\n",
      "Epoch 3/10\n",
      "500/500 [==============================] - 5s 9ms/step - loss: 98.2580 - val_loss: 99.2628\n",
      "Epoch 4/10\n",
      "500/500 [==============================] - 5s 9ms/step - loss: 97.8831 - val_loss: 98.8605\n",
      "Epoch 5/10\n",
      "500/500 [==============================] - 5s 9ms/step - loss: 97.9515 - val_loss: 99.0216\n",
      "Epoch 6/10\n",
      "500/500 [==============================] - 5s 10ms/step - loss: 97.8049 - val_loss: 99.3911\n",
      "Epoch 7/10\n",
      "500/500 [==============================] - 5s 10ms/step - loss: 97.7014 - val_loss: 99.4459\n",
      "Epoch 8/10\n",
      "500/500 [==============================] - 5s 10ms/step - loss: 97.6671 - val_loss: 99.5437\n",
      "Epoch 9/10\n",
      "500/500 [==============================] - 5s 10ms/step - loss: 97.3746 - val_loss: 99.0028\n",
      "Epoch 10/10\n",
      "500/500 [==============================] - 5s 10ms/step - loss: 97.5891 - val_loss: 99.0803\n"
     ]
    },
    {
     "data": {
      "text/plain": [
       "<tensorflow.python.keras.callbacks.History at 0x7fd78a67a710>"
      ]
     },
     "execution_count": 78,
     "metadata": {},
     "output_type": "execute_result"
    }
   ],
   "source": [
    "amd_lstm_model.fit(train_univariate, epochs=10,\n",
    "                      steps_per_epoch=500,\n",
    "                      validation_data=val_univariate, validation_steps=50)"
   ]
  },
  {
   "cell_type": "code",
   "execution_count": 79,
   "metadata": {},
   "outputs": [
    {
     "name": "stdout",
     "output_type": "stream",
     "text": [
      "AMD data set MAPE: 99.4320571899414\n"
     ]
    }
   ],
   "source": [
    "print(f'AMD data set MAPE: {model_mape(amd_lstm_model)}')"
   ]
  },
  {
   "cell_type": "code",
   "execution_count": 80,
   "metadata": {},
   "outputs": [
    {
     "data": {
      "image/png": "[encoded data removed]",
      "text/plain": [
       "<Figure size 432x288 with 1 Axes>"
      ]
     },
     "metadata": {
      "needs_background": "light"
     },
     "output_type": "display_data"
    },
    {
     "data": {
      "image/png": "[encoded data removed]",
      "text/plain": [
       "<Figure size 432x288 with 1 Axes>"
      ]
     },
     "metadata": {
      "needs_background": "light"
     },
     "output_type": "display_data"
    },
    {
     "data": {
      "image/png": "[encoded data removed]",
      "text/plain": [
       "<Figure size 432x288 with 1 Axes>"
      ]
     },
     "metadata": {
      "needs_background": "light"
     },
     "output_type": "display_data"
    }
   ],
   "source": [
    "prediction_attempt(amd_lstm_model, 'AMD Price Action Prediction RNN Model', val_univariate)"
   ]
  },
  {
   "cell_type": "code",
   "execution_count": 149,
   "metadata": {},
   "outputs": [],
   "source": [
    "x = amd[['Open', 'High','Low','Close', 'Volume']]\n",
    "y = amd['Price Up Tomorrow']\n",
    "\n",
    "x_train, x_test, y_train, y_test = train_test_split(x, y, train_size=0.75, shuffle=True)"
   ]
  },
  {
   "cell_type": "code",
   "execution_count": 216,
   "metadata": {},
   "outputs": [
    {
     "data": {
      "text/plain": [
       "count      2333\n",
       "unique        2\n",
       "top       False\n",
       "freq       1184\n",
       "Name: Price Up Tomorrow, dtype: object"
      ]
     },
     "execution_count": 216,
     "metadata": {},
     "output_type": "execute_result"
    }
   ],
   "source": [
    "(amd['Price Up Tomorrow']==1).describe()"
   ]
  },
  {
   "cell_type": "code",
   "execution_count": 217,
   "metadata": {},
   "outputs": [],
   "source": [
    "scaler = StandardScaler() \n",
    "x_train = scaler.fit_transform(x_train)\n",
    "x_test = scaler.transform(x_test)"
   ]
  },
  {
   "cell_type": "code",
   "execution_count": 218,
   "metadata": {},
   "outputs": [],
   "source": [
    "neural_model = MLPClassifier(solver='adam', alpha=0.0001, hidden_layer_sizes=(5,2))"
   ]
  },
  {
   "cell_type": "code",
   "execution_count": 219,
   "metadata": {},
   "outputs": [
    {
     "name": "stdout",
     "output_type": "stream",
     "text": [
      "Model accuracy: 0.5145797598627787\n"
     ]
    }
   ],
   "source": [
    "neural_model.fit(x_train, y_train)\n",
    "print(f'Model accuracy: {neural_model.score(x_train, y_train)}')"
   ]
  },
  {
   "cell_type": "code",
   "execution_count": 220,
   "metadata": {},
   "outputs": [],
   "source": [
    "neural_predict = neural_model.predict(x_test)"
   ]
  },
  {
   "cell_type": "code",
   "execution_count": 221,
   "metadata": {},
   "outputs": [
    {
     "name": "stdout",
     "output_type": "stream",
     "text": [
      "neural network model accuracy is: 0.5145797598627787\n",
      "neural network f1 score is: 0.4931034482758621\n",
      "neural network precision is: 0.4847457627118644\n",
      "neural network recall is: 0.5017543859649123\n"
     ]
    }
   ],
   "source": [
    "print(f'neural network model accuracy is: {neural_model.score(x_train, y_train)}')\n",
    "print(f'neural network f1 score is: {f1_score(y_test, neural_predict)}')\n",
    "print(f'neural network precision is: {precision_score(y_test, neural_predict)}')\n",
    "print(f'neural network recall is: {recall_score(y_test, neural_predict)}')"
   ]
  },
  {
   "cell_type": "code",
   "execution_count": 222,
   "metadata": {},
   "outputs": [
    {
     "data": {
      "image/png": "[encoded data removed]",
      "text/plain": [
       "<Figure size 432x432 with 1 Axes>"
      ]
     },
     "metadata": {
      "needs_background": "light"
     },
     "output_type": "display_data"
    }
   ],
   "source": [
    "neural_matrix = confusion_matrix(y_test,neural_predict)\n",
    "\n",
    "plt.subplots(figsize=(6, 6))\n",
    "sns.heatmap(neural_matrix, annot=True, cbar=False, cmap='YlGnBu',linewidth=1,fmt=\"d\")\n",
    "plt.ylabel('Actual Value')\n",
    "plt.xlabel('Predicted Value')\n",
    "plt.title('Confusion Matrix for AMD');"
   ]
  },
  {
   "cell_type": "markdown",
   "metadata": {},
   "source": [
    "Google Stock analysis"
   ]
  },
  {
   "cell_type": "code",
   "execution_count": 173,
   "metadata": {},
   "outputs": [],
   "source": [
    "google = pd.read_csv('GOOGL.csv')"
   ]
  },
  {
   "cell_type": "code",
   "execution_count": 174,
   "metadata": {},
   "outputs": [
    {
     "data": {
      "text/html": [
       "<div>\n",
       "<style scoped>\n",
       "    .dataframe tbody tr th:only-of-type {\n",
       "        vertical-align: middle;\n",
       "    }\n",
       "\n",
       "    .dataframe tbody tr th {\n",
       "        vertical-align: top;\n",
       "    }\n",
       "\n",
       "    .dataframe thead th {\n",
       "        text-align: right;\n",
       "    }\n",
       "</style>\n",
       "<table border=\"1\" class=\"dataframe\">\n",
       "  <thead>\n",
       "    <tr style=\"text-align: right;\">\n",
       "      <th></th>\n",
       "      <th>Open</th>\n",
       "      <th>High</th>\n",
       "      <th>Low</th>\n",
       "      <th>Close</th>\n",
       "      <th>Adj Close</th>\n",
       "      <th>Volume</th>\n",
       "    </tr>\n",
       "  </thead>\n",
       "  <tbody>\n",
       "    <tr>\n",
       "      <th>count</th>\n",
       "      <td>2335.000000</td>\n",
       "      <td>2335.000000</td>\n",
       "      <td>2335.000000</td>\n",
       "      <td>2335.000000</td>\n",
       "      <td>2335.000000</td>\n",
       "      <td>2.335000e+03</td>\n",
       "    </tr>\n",
       "    <tr>\n",
       "      <th>mean</th>\n",
       "      <td>550.725409</td>\n",
       "      <td>555.136744</td>\n",
       "      <td>545.908515</td>\n",
       "      <td>550.662757</td>\n",
       "      <td>550.662757</td>\n",
       "      <td>3.764886e+06</td>\n",
       "    </tr>\n",
       "    <tr>\n",
       "      <th>std</th>\n",
       "      <td>278.136894</td>\n",
       "      <td>280.349025</td>\n",
       "      <td>275.855161</td>\n",
       "      <td>278.228484</td>\n",
       "      <td>278.228484</td>\n",
       "      <td>2.764696e+06</td>\n",
       "    </tr>\n",
       "    <tr>\n",
       "      <th>min</th>\n",
       "      <td>196.171173</td>\n",
       "      <td>199.524521</td>\n",
       "      <td>195.195190</td>\n",
       "      <td>196.946945</td>\n",
       "      <td>196.946945</td>\n",
       "      <td>5.206000e+05</td>\n",
       "    </tr>\n",
       "    <tr>\n",
       "      <th>25%</th>\n",
       "      <td>299.286773</td>\n",
       "      <td>301.759247</td>\n",
       "      <td>297.197204</td>\n",
       "      <td>299.144135</td>\n",
       "      <td>299.144135</td>\n",
       "      <td>1.734650e+06</td>\n",
       "    </tr>\n",
       "    <tr>\n",
       "      <th>50%</th>\n",
       "      <td>526.211182</td>\n",
       "      <td>532.780029</td>\n",
       "      <td>521.909973</td>\n",
       "      <td>527.767761</td>\n",
       "      <td>527.767761</td>\n",
       "      <td>3.250200e+06</td>\n",
       "    </tr>\n",
       "    <tr>\n",
       "      <th>75%</th>\n",
       "      <td>757.760010</td>\n",
       "      <td>763.745025</td>\n",
       "      <td>752.024994</td>\n",
       "      <td>758.524993</td>\n",
       "      <td>758.524993</td>\n",
       "      <td>4.891800e+06</td>\n",
       "    </tr>\n",
       "    <tr>\n",
       "      <th>max</th>\n",
       "      <td>1289.119995</td>\n",
       "      <td>1291.439941</td>\n",
       "      <td>1263.000000</td>\n",
       "      <td>1285.500000</td>\n",
       "      <td>1285.500000</td>\n",
       "      <td>2.961990e+07</td>\n",
       "    </tr>\n",
       "  </tbody>\n",
       "</table>\n",
       "</div>"
      ],
      "text/plain": [
       "              Open         High          Low        Close    Adj Close  \\\n",
       "count  2335.000000  2335.000000  2335.000000  2335.000000  2335.000000   \n",
       "mean    550.725409   555.136744   545.908515   550.662757   550.662757   \n",
       "std     278.136894   280.349025   275.855161   278.228484   278.228484   \n",
       "min     196.171173   199.524521   195.195190   196.946945   196.946945   \n",
       "25%     299.286773   301.759247   297.197204   299.144135   299.144135   \n",
       "50%     526.211182   532.780029   521.909973   527.767761   527.767761   \n",
       "75%     757.760010   763.745025   752.024994   758.524993   758.524993   \n",
       "max    1289.119995  1291.439941  1263.000000  1285.500000  1285.500000   \n",
       "\n",
       "             Volume  \n",
       "count  2.335000e+03  \n",
       "mean   3.764886e+06  \n",
       "std    2.764696e+06  \n",
       "min    5.206000e+05  \n",
       "25%    1.734650e+06  \n",
       "50%    3.250200e+06  \n",
       "75%    4.891800e+06  \n",
       "max    2.961990e+07  "
      ]
     },
     "execution_count": 174,
     "metadata": {},
     "output_type": "execute_result"
    }
   ],
   "source": [
    "google.describe()"
   ]
  },
  {
   "cell_type": "code",
   "execution_count": 175,
   "metadata": {},
   "outputs": [
    {
     "data": {
      "text/plain": [
       "Date         0\n",
       "Open         0\n",
       "High         0\n",
       "Low          0\n",
       "Close        0\n",
       "Adj Close    0\n",
       "Volume       0\n",
       "dtype: int64"
      ]
     },
     "execution_count": 175,
     "metadata": {},
     "output_type": "execute_result"
    }
   ],
   "source": [
    "google.isna().sum()"
   ]
  },
  {
   "cell_type": "code",
   "execution_count": 176,
   "metadata": {},
   "outputs": [
    {
     "data": {
      "text/html": [
       "<div>\n",
       "<style scoped>\n",
       "    .dataframe tbody tr th:only-of-type {\n",
       "        vertical-align: middle;\n",
       "    }\n",
       "\n",
       "    .dataframe tbody tr th {\n",
       "        vertical-align: top;\n",
       "    }\n",
       "\n",
       "    .dataframe thead th {\n",
       "        text-align: right;\n",
       "    }\n",
       "</style>\n",
       "<table border=\"1\" class=\"dataframe\">\n",
       "  <thead>\n",
       "    <tr style=\"text-align: right;\">\n",
       "      <th></th>\n",
       "      <th>Date</th>\n",
       "      <th>Open</th>\n",
       "      <th>High</th>\n",
       "      <th>Low</th>\n",
       "      <th>Close</th>\n",
       "      <th>Adj Close</th>\n",
       "      <th>Volume</th>\n",
       "    </tr>\n",
       "  </thead>\n",
       "  <tbody>\n",
       "    <tr>\n",
       "      <th>0</th>\n",
       "      <td>2009-05-22</td>\n",
       "      <td>198.528534</td>\n",
       "      <td>199.524521</td>\n",
       "      <td>196.196198</td>\n",
       "      <td>196.946945</td>\n",
       "      <td>196.946945</td>\n",
       "      <td>3433700</td>\n",
       "    </tr>\n",
       "    <tr>\n",
       "      <th>1</th>\n",
       "      <td>2009-05-26</td>\n",
       "      <td>196.171173</td>\n",
       "      <td>202.702698</td>\n",
       "      <td>195.195190</td>\n",
       "      <td>202.382385</td>\n",
       "      <td>202.382385</td>\n",
       "      <td>6202700</td>\n",
       "    </tr>\n",
       "    <tr>\n",
       "      <th>2</th>\n",
       "      <td>2009-05-27</td>\n",
       "      <td>203.023026</td>\n",
       "      <td>206.136139</td>\n",
       "      <td>202.607605</td>\n",
       "      <td>202.982986</td>\n",
       "      <td>202.982986</td>\n",
       "      <td>6062500</td>\n",
       "    </tr>\n",
       "    <tr>\n",
       "      <th>3</th>\n",
       "      <td>2009-05-28</td>\n",
       "      <td>204.544540</td>\n",
       "      <td>206.016022</td>\n",
       "      <td>202.507507</td>\n",
       "      <td>205.405411</td>\n",
       "      <td>205.405411</td>\n",
       "      <td>5332200</td>\n",
       "    </tr>\n",
       "    <tr>\n",
       "      <th>4</th>\n",
       "      <td>2009-05-29</td>\n",
       "      <td>206.261261</td>\n",
       "      <td>208.823822</td>\n",
       "      <td>205.555557</td>\n",
       "      <td>208.823822</td>\n",
       "      <td>208.823822</td>\n",
       "      <td>5291100</td>\n",
       "    </tr>\n",
       "  </tbody>\n",
       "</table>\n",
       "</div>"
      ],
      "text/plain": [
       "         Date        Open        High         Low       Close   Adj Close  \\\n",
       "0  2009-05-22  198.528534  199.524521  196.196198  196.946945  196.946945   \n",
       "1  2009-05-26  196.171173  202.702698  195.195190  202.382385  202.382385   \n",
       "2  2009-05-27  203.023026  206.136139  202.607605  202.982986  202.982986   \n",
       "3  2009-05-28  204.544540  206.016022  202.507507  205.405411  205.405411   \n",
       "4  2009-05-29  206.261261  208.823822  205.555557  208.823822  208.823822   \n",
       "\n",
       "    Volume  \n",
       "0  3433700  \n",
       "1  6202700  \n",
       "2  6062500  \n",
       "3  5332200  \n",
       "4  5291100  "
      ]
     },
     "execution_count": 176,
     "metadata": {},
     "output_type": "execute_result"
    }
   ],
   "source": [
    "google.head(5)"
   ]
  },
  {
   "cell_type": "code",
   "execution_count": 177,
   "metadata": {},
   "outputs": [],
   "source": [
    "google['Percentage change in price'] = (google['Close']/google['Close'].shift(1))-1"
   ]
  },
  {
   "cell_type": "code",
   "execution_count": 178,
   "metadata": {},
   "outputs": [
    {
     "data": {
      "text/plain": [
       "count    2334.000000\n",
       "mean        0.000909\n",
       "std         0.015005\n",
       "min        -0.083775\n",
       "25%        -0.006118\n",
       "50%         0.000681\n",
       "75%         0.008511\n",
       "max         0.162584\n",
       "Name: Percentage change in price, dtype: float64"
      ]
     },
     "execution_count": 178,
     "metadata": {},
     "output_type": "execute_result"
    }
   ],
   "source": [
    "google['Percentage change in price'].describe()"
   ]
  },
  {
   "cell_type": "code",
   "execution_count": 179,
   "metadata": {},
   "outputs": [],
   "source": [
    "google_auto_corr = pd.Series(google['Percentage change in price'])"
   ]
  },
  {
   "cell_type": "code",
   "execution_count": 180,
   "metadata": {},
   "outputs": [
    {
     "data": {
      "text/html": [
       "<div>\n",
       "<style scoped>\n",
       "    .dataframe tbody tr th:only-of-type {\n",
       "        vertical-align: middle;\n",
       "    }\n",
       "\n",
       "    .dataframe tbody tr th {\n",
       "        vertical-align: top;\n",
       "    }\n",
       "\n",
       "    .dataframe thead th {\n",
       "        text-align: right;\n",
       "    }\n",
       "</style>\n",
       "<table border=\"1\" class=\"dataframe\">\n",
       "  <thead>\n",
       "    <tr style=\"text-align: right;\">\n",
       "      <th></th>\n",
       "      <th>Date</th>\n",
       "      <th>Open</th>\n",
       "      <th>High</th>\n",
       "      <th>Low</th>\n",
       "      <th>Close</th>\n",
       "      <th>Adj Close</th>\n",
       "      <th>Volume</th>\n",
       "      <th>Percentage change in price</th>\n",
       "    </tr>\n",
       "  </thead>\n",
       "  <tbody>\n",
       "    <tr>\n",
       "      <th>0</th>\n",
       "      <td>2009-05-22</td>\n",
       "      <td>198.528534</td>\n",
       "      <td>199.524521</td>\n",
       "      <td>196.196198</td>\n",
       "      <td>196.946945</td>\n",
       "      <td>196.946945</td>\n",
       "      <td>3433700</td>\n",
       "      <td>NaN</td>\n",
       "    </tr>\n",
       "    <tr>\n",
       "      <th>1</th>\n",
       "      <td>2009-05-26</td>\n",
       "      <td>196.171173</td>\n",
       "      <td>202.702698</td>\n",
       "      <td>195.195190</td>\n",
       "      <td>202.382385</td>\n",
       "      <td>202.382385</td>\n",
       "      <td>6202700</td>\n",
       "      <td>0.027598</td>\n",
       "    </tr>\n",
       "    <tr>\n",
       "      <th>2</th>\n",
       "      <td>2009-05-27</td>\n",
       "      <td>203.023026</td>\n",
       "      <td>206.136139</td>\n",
       "      <td>202.607605</td>\n",
       "      <td>202.982986</td>\n",
       "      <td>202.982986</td>\n",
       "      <td>6062500</td>\n",
       "      <td>0.002968</td>\n",
       "    </tr>\n",
       "    <tr>\n",
       "      <th>3</th>\n",
       "      <td>2009-05-28</td>\n",
       "      <td>204.544540</td>\n",
       "      <td>206.016022</td>\n",
       "      <td>202.507507</td>\n",
       "      <td>205.405411</td>\n",
       "      <td>205.405411</td>\n",
       "      <td>5332200</td>\n",
       "      <td>0.011934</td>\n",
       "    </tr>\n",
       "    <tr>\n",
       "      <th>4</th>\n",
       "      <td>2009-05-29</td>\n",
       "      <td>206.261261</td>\n",
       "      <td>208.823822</td>\n",
       "      <td>205.555557</td>\n",
       "      <td>208.823822</td>\n",
       "      <td>208.823822</td>\n",
       "      <td>5291100</td>\n",
       "      <td>0.016642</td>\n",
       "    </tr>\n",
       "    <tr>\n",
       "      <th>5</th>\n",
       "      <td>2009-06-01</td>\n",
       "      <td>209.574570</td>\n",
       "      <td>215.015015</td>\n",
       "      <td>209.474472</td>\n",
       "      <td>213.493500</td>\n",
       "      <td>213.493500</td>\n",
       "      <td>6638100</td>\n",
       "      <td>0.022362</td>\n",
       "    </tr>\n",
       "    <tr>\n",
       "      <th>6</th>\n",
       "      <td>2009-06-02</td>\n",
       "      <td>213.338333</td>\n",
       "      <td>215.195190</td>\n",
       "      <td>211.911911</td>\n",
       "      <td>214.414413</td>\n",
       "      <td>214.414413</td>\n",
       "      <td>5241900</td>\n",
       "      <td>0.004314</td>\n",
       "    </tr>\n",
       "    <tr>\n",
       "      <th>7</th>\n",
       "      <td>2009-06-03</td>\n",
       "      <td>213.213211</td>\n",
       "      <td>216.446442</td>\n",
       "      <td>212.212219</td>\n",
       "      <td>216.041046</td>\n",
       "      <td>216.041046</td>\n",
       "      <td>7058500</td>\n",
       "      <td>0.007586</td>\n",
       "    </tr>\n",
       "    <tr>\n",
       "      <th>8</th>\n",
       "      <td>2009-06-04</td>\n",
       "      <td>217.867874</td>\n",
       "      <td>220.840836</td>\n",
       "      <td>217.467468</td>\n",
       "      <td>220.360367</td>\n",
       "      <td>220.360367</td>\n",
       "      <td>7268900</td>\n",
       "      <td>0.019993</td>\n",
       "    </tr>\n",
       "    <tr>\n",
       "      <th>9</th>\n",
       "      <td>2009-06-05</td>\n",
       "      <td>222.757751</td>\n",
       "      <td>223.893890</td>\n",
       "      <td>219.949951</td>\n",
       "      <td>222.382385</td>\n",
       "      <td>222.382385</td>\n",
       "      <td>7354200</td>\n",
       "      <td>0.009176</td>\n",
       "    </tr>\n",
       "  </tbody>\n",
       "</table>\n",
       "</div>"
      ],
      "text/plain": [
       "         Date        Open        High         Low       Close   Adj Close  \\\n",
       "0  2009-05-22  198.528534  199.524521  196.196198  196.946945  196.946945   \n",
       "1  2009-05-26  196.171173  202.702698  195.195190  202.382385  202.382385   \n",
       "2  2009-05-27  203.023026  206.136139  202.607605  202.982986  202.982986   \n",
       "3  2009-05-28  204.544540  206.016022  202.507507  205.405411  205.405411   \n",
       "4  2009-05-29  206.261261  208.823822  205.555557  208.823822  208.823822   \n",
       "5  2009-06-01  209.574570  215.015015  209.474472  213.493500  213.493500   \n",
       "6  2009-06-02  213.338333  215.195190  211.911911  214.414413  214.414413   \n",
       "7  2009-06-03  213.213211  216.446442  212.212219  216.041046  216.041046   \n",
       "8  2009-06-04  217.867874  220.840836  217.467468  220.360367  220.360367   \n",
       "9  2009-06-05  222.757751  223.893890  219.949951  222.382385  222.382385   \n",
       "\n",
       "    Volume  Percentage change in price  \n",
       "0  3433700                         NaN  \n",
       "1  6202700                    0.027598  \n",
       "2  6062500                    0.002968  \n",
       "3  5332200                    0.011934  \n",
       "4  5291100                    0.016642  \n",
       "5  6638100                    0.022362  \n",
       "6  5241900                    0.004314  \n",
       "7  7058500                    0.007586  \n",
       "8  7268900                    0.019993  \n",
       "9  7354200                    0.009176  "
      ]
     },
     "execution_count": 180,
     "metadata": {},
     "output_type": "execute_result"
    }
   ],
   "source": [
    "google.head(10)"
   ]
  },
  {
   "cell_type": "code",
   "execution_count": 181,
   "metadata": {},
   "outputs": [
    {
     "name": "stdout",
     "output_type": "stream",
     "text": [
      "Google autocorrelation for percentage change in price at 1 day lag: 0.02977616713430228\n",
      "Google autocorrelation for percentage change in price at 10 day lag: 0.011715200721515733\n",
      "Google autocorrelation for percentage change in price at 30 day lag: -0.00723938611257335\n",
      "Google autocorrelation for percentage change in price at 90 day lag: -0.016023588821673814\n"
     ]
    }
   ],
   "source": [
    "print(f'Google autocorrelation for percentage change in price at 1 day lag: {google_auto_corr.autocorr(lag=1)}')\n",
    "print(f'Google autocorrelation for percentage change in price at 10 day lag: {google_auto_corr.autocorr(lag=10)}')\n",
    "print(f'Google autocorrelation for percentage change in price at 30 day lag: {google_auto_corr.autocorr(lag=30)}')\n",
    "print(f'Google autocorrelation for percentage change in price at 90 day lag: {google_auto_corr.autocorr(lag=90)}')"
   ]
  },
  {
   "cell_type": "code",
   "execution_count": 182,
   "metadata": {},
   "outputs": [
    {
     "name": "stdout",
     "output_type": "stream",
     "text": [
      "<class 'pandas.core.frame.DataFrame'>\n",
      "RangeIndex: 2335 entries, 0 to 2334\n",
      "Data columns (total 8 columns):\n",
      " #   Column                      Non-Null Count  Dtype  \n",
      "---  ------                      --------------  -----  \n",
      " 0   Date                        2335 non-null   object \n",
      " 1   Open                        2335 non-null   float64\n",
      " 2   High                        2335 non-null   float64\n",
      " 3   Low                         2335 non-null   float64\n",
      " 4   Close                       2335 non-null   float64\n",
      " 5   Adj Close                   2335 non-null   float64\n",
      " 6   Volume                      2335 non-null   int64  \n",
      " 7   Percentage change in price  2334 non-null   float64\n",
      "dtypes: float64(6), int64(1), object(1)\n",
      "memory usage: 146.1+ KB\n"
     ]
    }
   ],
   "source": [
    "google.info()"
   ]
  },
  {
   "cell_type": "code",
   "execution_count": 183,
   "metadata": {},
   "outputs": [],
   "source": [
    "google['1_day_close'] = google['Close'].shift(-1)"
   ]
  },
  {
   "cell_type": "code",
   "execution_count": 184,
   "metadata": {},
   "outputs": [],
   "source": [
    "google['google_1_day_autocorr'] = google_auto_corr.autocorr(lag=1)\n",
    "google['google_10_day_autocorr'] = google_auto_corr.autocorr(lag=10)\n",
    "google['google_30_day_autocorr'] = google_auto_corr.autocorr(lag=30)\n",
    "google['google_90_day_autocorr'] = google_auto_corr.autocorr(lag=90)"
   ]
  },
  {
   "cell_type": "code",
   "execution_count": 185,
   "metadata": {},
   "outputs": [],
   "source": [
    "google['Price Up Tomorrow'] = np.where(google['Close'].shift(-1)>google['Close'], 1, 0) #Price up Tomorrow is True (1) if tomorrows \n",
    "#closing price is higher than todays. "
   ]
  },
  {
   "cell_type": "code",
   "execution_count": 186,
   "metadata": {},
   "outputs": [
    {
     "data": {
      "text/html": [
       "<div>\n",
       "<style scoped>\n",
       "    .dataframe tbody tr th:only-of-type {\n",
       "        vertical-align: middle;\n",
       "    }\n",
       "\n",
       "    .dataframe tbody tr th {\n",
       "        vertical-align: top;\n",
       "    }\n",
       "\n",
       "    .dataframe thead th {\n",
       "        text-align: right;\n",
       "    }\n",
       "</style>\n",
       "<table border=\"1\" class=\"dataframe\">\n",
       "  <thead>\n",
       "    <tr style=\"text-align: right;\">\n",
       "      <th></th>\n",
       "      <th>Date</th>\n",
       "      <th>Open</th>\n",
       "      <th>High</th>\n",
       "      <th>Low</th>\n",
       "      <th>Close</th>\n",
       "      <th>Adj Close</th>\n",
       "      <th>Volume</th>\n",
       "      <th>Percentage change in price</th>\n",
       "      <th>1_day_close</th>\n",
       "      <th>google_1_day_autocorr</th>\n",
       "      <th>google_10_day_autocorr</th>\n",
       "      <th>google_30_day_autocorr</th>\n",
       "      <th>google_90_day_autocorr</th>\n",
       "      <th>Price Up Tomorrow</th>\n",
       "    </tr>\n",
       "  </thead>\n",
       "  <tbody>\n",
       "    <tr>\n",
       "      <th>0</th>\n",
       "      <td>2009-05-22</td>\n",
       "      <td>198.528534</td>\n",
       "      <td>199.524521</td>\n",
       "      <td>196.196198</td>\n",
       "      <td>196.946945</td>\n",
       "      <td>196.946945</td>\n",
       "      <td>3433700</td>\n",
       "      <td>NaN</td>\n",
       "      <td>202.382385</td>\n",
       "      <td>0.029776</td>\n",
       "      <td>0.011715</td>\n",
       "      <td>-0.007239</td>\n",
       "      <td>-0.016024</td>\n",
       "      <td>1</td>\n",
       "    </tr>\n",
       "    <tr>\n",
       "      <th>1</th>\n",
       "      <td>2009-05-26</td>\n",
       "      <td>196.171173</td>\n",
       "      <td>202.702698</td>\n",
       "      <td>195.195190</td>\n",
       "      <td>202.382385</td>\n",
       "      <td>202.382385</td>\n",
       "      <td>6202700</td>\n",
       "      <td>0.027598</td>\n",
       "      <td>202.982986</td>\n",
       "      <td>0.029776</td>\n",
       "      <td>0.011715</td>\n",
       "      <td>-0.007239</td>\n",
       "      <td>-0.016024</td>\n",
       "      <td>1</td>\n",
       "    </tr>\n",
       "    <tr>\n",
       "      <th>2</th>\n",
       "      <td>2009-05-27</td>\n",
       "      <td>203.023026</td>\n",
       "      <td>206.136139</td>\n",
       "      <td>202.607605</td>\n",
       "      <td>202.982986</td>\n",
       "      <td>202.982986</td>\n",
       "      <td>6062500</td>\n",
       "      <td>0.002968</td>\n",
       "      <td>205.405411</td>\n",
       "      <td>0.029776</td>\n",
       "      <td>0.011715</td>\n",
       "      <td>-0.007239</td>\n",
       "      <td>-0.016024</td>\n",
       "      <td>1</td>\n",
       "    </tr>\n",
       "    <tr>\n",
       "      <th>3</th>\n",
       "      <td>2009-05-28</td>\n",
       "      <td>204.544540</td>\n",
       "      <td>206.016022</td>\n",
       "      <td>202.507507</td>\n",
       "      <td>205.405411</td>\n",
       "      <td>205.405411</td>\n",
       "      <td>5332200</td>\n",
       "      <td>0.011934</td>\n",
       "      <td>208.823822</td>\n",
       "      <td>0.029776</td>\n",
       "      <td>0.011715</td>\n",
       "      <td>-0.007239</td>\n",
       "      <td>-0.016024</td>\n",
       "      <td>1</td>\n",
       "    </tr>\n",
       "    <tr>\n",
       "      <th>4</th>\n",
       "      <td>2009-05-29</td>\n",
       "      <td>206.261261</td>\n",
       "      <td>208.823822</td>\n",
       "      <td>205.555557</td>\n",
       "      <td>208.823822</td>\n",
       "      <td>208.823822</td>\n",
       "      <td>5291100</td>\n",
       "      <td>0.016642</td>\n",
       "      <td>213.493500</td>\n",
       "      <td>0.029776</td>\n",
       "      <td>0.011715</td>\n",
       "      <td>-0.007239</td>\n",
       "      <td>-0.016024</td>\n",
       "      <td>1</td>\n",
       "    </tr>\n",
       "    <tr>\n",
       "      <th>5</th>\n",
       "      <td>2009-06-01</td>\n",
       "      <td>209.574570</td>\n",
       "      <td>215.015015</td>\n",
       "      <td>209.474472</td>\n",
       "      <td>213.493500</td>\n",
       "      <td>213.493500</td>\n",
       "      <td>6638100</td>\n",
       "      <td>0.022362</td>\n",
       "      <td>214.414413</td>\n",
       "      <td>0.029776</td>\n",
       "      <td>0.011715</td>\n",
       "      <td>-0.007239</td>\n",
       "      <td>-0.016024</td>\n",
       "      <td>1</td>\n",
       "    </tr>\n",
       "    <tr>\n",
       "      <th>6</th>\n",
       "      <td>2009-06-02</td>\n",
       "      <td>213.338333</td>\n",
       "      <td>215.195190</td>\n",
       "      <td>211.911911</td>\n",
       "      <td>214.414413</td>\n",
       "      <td>214.414413</td>\n",
       "      <td>5241900</td>\n",
       "      <td>0.004314</td>\n",
       "      <td>216.041046</td>\n",
       "      <td>0.029776</td>\n",
       "      <td>0.011715</td>\n",
       "      <td>-0.007239</td>\n",
       "      <td>-0.016024</td>\n",
       "      <td>1</td>\n",
       "    </tr>\n",
       "    <tr>\n",
       "      <th>7</th>\n",
       "      <td>2009-06-03</td>\n",
       "      <td>213.213211</td>\n",
       "      <td>216.446442</td>\n",
       "      <td>212.212219</td>\n",
       "      <td>216.041046</td>\n",
       "      <td>216.041046</td>\n",
       "      <td>7058500</td>\n",
       "      <td>0.007586</td>\n",
       "      <td>220.360367</td>\n",
       "      <td>0.029776</td>\n",
       "      <td>0.011715</td>\n",
       "      <td>-0.007239</td>\n",
       "      <td>-0.016024</td>\n",
       "      <td>1</td>\n",
       "    </tr>\n",
       "    <tr>\n",
       "      <th>8</th>\n",
       "      <td>2009-06-04</td>\n",
       "      <td>217.867874</td>\n",
       "      <td>220.840836</td>\n",
       "      <td>217.467468</td>\n",
       "      <td>220.360367</td>\n",
       "      <td>220.360367</td>\n",
       "      <td>7268900</td>\n",
       "      <td>0.019993</td>\n",
       "      <td>222.382385</td>\n",
       "      <td>0.029776</td>\n",
       "      <td>0.011715</td>\n",
       "      <td>-0.007239</td>\n",
       "      <td>-0.016024</td>\n",
       "      <td>1</td>\n",
       "    </tr>\n",
       "    <tr>\n",
       "      <th>9</th>\n",
       "      <td>2009-06-05</td>\n",
       "      <td>222.757751</td>\n",
       "      <td>223.893890</td>\n",
       "      <td>219.949951</td>\n",
       "      <td>222.382385</td>\n",
       "      <td>222.382385</td>\n",
       "      <td>7354200</td>\n",
       "      <td>0.009176</td>\n",
       "      <td>219.604599</td>\n",
       "      <td>0.029776</td>\n",
       "      <td>0.011715</td>\n",
       "      <td>-0.007239</td>\n",
       "      <td>-0.016024</td>\n",
       "      <td>0</td>\n",
       "    </tr>\n",
       "  </tbody>\n",
       "</table>\n",
       "</div>"
      ],
      "text/plain": [
       "         Date        Open        High         Low       Close   Adj Close  \\\n",
       "0  2009-05-22  198.528534  199.524521  196.196198  196.946945  196.946945   \n",
       "1  2009-05-26  196.171173  202.702698  195.195190  202.382385  202.382385   \n",
       "2  2009-05-27  203.023026  206.136139  202.607605  202.982986  202.982986   \n",
       "3  2009-05-28  204.544540  206.016022  202.507507  205.405411  205.405411   \n",
       "4  2009-05-29  206.261261  208.823822  205.555557  208.823822  208.823822   \n",
       "5  2009-06-01  209.574570  215.015015  209.474472  213.493500  213.493500   \n",
       "6  2009-06-02  213.338333  215.195190  211.911911  214.414413  214.414413   \n",
       "7  2009-06-03  213.213211  216.446442  212.212219  216.041046  216.041046   \n",
       "8  2009-06-04  217.867874  220.840836  217.467468  220.360367  220.360367   \n",
       "9  2009-06-05  222.757751  223.893890  219.949951  222.382385  222.382385   \n",
       "\n",
       "    Volume  Percentage change in price  1_day_close  google_1_day_autocorr  \\\n",
       "0  3433700                         NaN   202.382385               0.029776   \n",
       "1  6202700                    0.027598   202.982986               0.029776   \n",
       "2  6062500                    0.002968   205.405411               0.029776   \n",
       "3  5332200                    0.011934   208.823822               0.029776   \n",
       "4  5291100                    0.016642   213.493500               0.029776   \n",
       "5  6638100                    0.022362   214.414413               0.029776   \n",
       "6  5241900                    0.004314   216.041046               0.029776   \n",
       "7  7058500                    0.007586   220.360367               0.029776   \n",
       "8  7268900                    0.019993   222.382385               0.029776   \n",
       "9  7354200                    0.009176   219.604599               0.029776   \n",
       "\n",
       "   google_10_day_autocorr  google_30_day_autocorr  google_90_day_autocorr  \\\n",
       "0                0.011715               -0.007239               -0.016024   \n",
       "1                0.011715               -0.007239               -0.016024   \n",
       "2                0.011715               -0.007239               -0.016024   \n",
       "3                0.011715               -0.007239               -0.016024   \n",
       "4                0.011715               -0.007239               -0.016024   \n",
       "5                0.011715               -0.007239               -0.016024   \n",
       "6                0.011715               -0.007239               -0.016024   \n",
       "7                0.011715               -0.007239               -0.016024   \n",
       "8                0.011715               -0.007239               -0.016024   \n",
       "9                0.011715               -0.007239               -0.016024   \n",
       "\n",
       "   Price Up Tomorrow  \n",
       "0                  1  \n",
       "1                  1  \n",
       "2                  1  \n",
       "3                  1  \n",
       "4                  1  \n",
       "5                  1  \n",
       "6                  1  \n",
       "7                  1  \n",
       "8                  1  \n",
       "9                  0  "
      ]
     },
     "execution_count": 186,
     "metadata": {},
     "output_type": "execute_result"
    }
   ],
   "source": [
    "google.head(10)"
   ]
  },
  {
   "cell_type": "code",
   "execution_count": 187,
   "metadata": {},
   "outputs": [],
   "source": [
    "google.dropna(axis=0, inplace=True) #remove rows with null values from data set"
   ]
  },
  {
   "cell_type": "code",
   "execution_count": 188,
   "metadata": {},
   "outputs": [
    {
     "name": "stdout",
     "output_type": "stream",
     "text": [
      "<class 'pandas.core.frame.DataFrame'>\n",
      "Int64Index: 2333 entries, 1 to 2333\n",
      "Data columns (total 14 columns):\n",
      " #   Column                      Non-Null Count  Dtype  \n",
      "---  ------                      --------------  -----  \n",
      " 0   Date                        2333 non-null   object \n",
      " 1   Open                        2333 non-null   float64\n",
      " 2   High                        2333 non-null   float64\n",
      " 3   Low                         2333 non-null   float64\n",
      " 4   Close                       2333 non-null   float64\n",
      " 5   Adj Close                   2333 non-null   float64\n",
      " 6   Volume                      2333 non-null   int64  \n",
      " 7   Percentage change in price  2333 non-null   float64\n",
      " 8   1_day_close                 2333 non-null   float64\n",
      " 9   google_1_day_autocorr       2333 non-null   float64\n",
      " 10  google_10_day_autocorr      2333 non-null   float64\n",
      " 11  google_30_day_autocorr      2333 non-null   float64\n",
      " 12  google_90_day_autocorr      2333 non-null   float64\n",
      " 13  Price Up Tomorrow           2333 non-null   int64  \n",
      "dtypes: float64(11), int64(2), object(1)\n",
      "memory usage: 273.4+ KB\n"
     ]
    }
   ],
   "source": [
    "google.info()"
   ]
  },
  {
   "cell_type": "code",
   "execution_count": 189,
   "metadata": {},
   "outputs": [
    {
     "data": {
      "text/html": [
       "<div>\n",
       "<style scoped>\n",
       "    .dataframe tbody tr th:only-of-type {\n",
       "        vertical-align: middle;\n",
       "    }\n",
       "\n",
       "    .dataframe tbody tr th {\n",
       "        vertical-align: top;\n",
       "    }\n",
       "\n",
       "    .dataframe thead th {\n",
       "        text-align: right;\n",
       "    }\n",
       "</style>\n",
       "<table border=\"1\" class=\"dataframe\">\n",
       "  <thead>\n",
       "    <tr style=\"text-align: right;\">\n",
       "      <th></th>\n",
       "      <th>Date</th>\n",
       "      <th>Open</th>\n",
       "      <th>High</th>\n",
       "      <th>Low</th>\n",
       "      <th>Close</th>\n",
       "      <th>Adj Close</th>\n",
       "      <th>Volume</th>\n",
       "      <th>Percentage change in price</th>\n",
       "      <th>1_day_close</th>\n",
       "      <th>google_1_day_autocorr</th>\n",
       "      <th>google_10_day_autocorr</th>\n",
       "      <th>google_30_day_autocorr</th>\n",
       "      <th>google_90_day_autocorr</th>\n",
       "      <th>Price Up Tomorrow</th>\n",
       "    </tr>\n",
       "  </thead>\n",
       "  <tbody>\n",
       "    <tr>\n",
       "      <th>1</th>\n",
       "      <td>2009-05-26</td>\n",
       "      <td>196.171173</td>\n",
       "      <td>202.702698</td>\n",
       "      <td>195.195190</td>\n",
       "      <td>202.382385</td>\n",
       "      <td>202.382385</td>\n",
       "      <td>6202700</td>\n",
       "      <td>0.027598</td>\n",
       "      <td>202.982986</td>\n",
       "      <td>0.029776</td>\n",
       "      <td>0.011715</td>\n",
       "      <td>-0.007239</td>\n",
       "      <td>-0.016024</td>\n",
       "      <td>1</td>\n",
       "    </tr>\n",
       "    <tr>\n",
       "      <th>2</th>\n",
       "      <td>2009-05-27</td>\n",
       "      <td>203.023026</td>\n",
       "      <td>206.136139</td>\n",
       "      <td>202.607605</td>\n",
       "      <td>202.982986</td>\n",
       "      <td>202.982986</td>\n",
       "      <td>6062500</td>\n",
       "      <td>0.002968</td>\n",
       "      <td>205.405411</td>\n",
       "      <td>0.029776</td>\n",
       "      <td>0.011715</td>\n",
       "      <td>-0.007239</td>\n",
       "      <td>-0.016024</td>\n",
       "      <td>1</td>\n",
       "    </tr>\n",
       "    <tr>\n",
       "      <th>3</th>\n",
       "      <td>2009-05-28</td>\n",
       "      <td>204.544540</td>\n",
       "      <td>206.016022</td>\n",
       "      <td>202.507507</td>\n",
       "      <td>205.405411</td>\n",
       "      <td>205.405411</td>\n",
       "      <td>5332200</td>\n",
       "      <td>0.011934</td>\n",
       "      <td>208.823822</td>\n",
       "      <td>0.029776</td>\n",
       "      <td>0.011715</td>\n",
       "      <td>-0.007239</td>\n",
       "      <td>-0.016024</td>\n",
       "      <td>1</td>\n",
       "    </tr>\n",
       "    <tr>\n",
       "      <th>4</th>\n",
       "      <td>2009-05-29</td>\n",
       "      <td>206.261261</td>\n",
       "      <td>208.823822</td>\n",
       "      <td>205.555557</td>\n",
       "      <td>208.823822</td>\n",
       "      <td>208.823822</td>\n",
       "      <td>5291100</td>\n",
       "      <td>0.016642</td>\n",
       "      <td>213.493500</td>\n",
       "      <td>0.029776</td>\n",
       "      <td>0.011715</td>\n",
       "      <td>-0.007239</td>\n",
       "      <td>-0.016024</td>\n",
       "      <td>1</td>\n",
       "    </tr>\n",
       "    <tr>\n",
       "      <th>5</th>\n",
       "      <td>2009-06-01</td>\n",
       "      <td>209.574570</td>\n",
       "      <td>215.015015</td>\n",
       "      <td>209.474472</td>\n",
       "      <td>213.493500</td>\n",
       "      <td>213.493500</td>\n",
       "      <td>6638100</td>\n",
       "      <td>0.022362</td>\n",
       "      <td>214.414413</td>\n",
       "      <td>0.029776</td>\n",
       "      <td>0.011715</td>\n",
       "      <td>-0.007239</td>\n",
       "      <td>-0.016024</td>\n",
       "      <td>1</td>\n",
       "    </tr>\n",
       "    <tr>\n",
       "      <th>6</th>\n",
       "      <td>2009-06-02</td>\n",
       "      <td>213.338333</td>\n",
       "      <td>215.195190</td>\n",
       "      <td>211.911911</td>\n",
       "      <td>214.414413</td>\n",
       "      <td>214.414413</td>\n",
       "      <td>5241900</td>\n",
       "      <td>0.004314</td>\n",
       "      <td>216.041046</td>\n",
       "      <td>0.029776</td>\n",
       "      <td>0.011715</td>\n",
       "      <td>-0.007239</td>\n",
       "      <td>-0.016024</td>\n",
       "      <td>1</td>\n",
       "    </tr>\n",
       "    <tr>\n",
       "      <th>7</th>\n",
       "      <td>2009-06-03</td>\n",
       "      <td>213.213211</td>\n",
       "      <td>216.446442</td>\n",
       "      <td>212.212219</td>\n",
       "      <td>216.041046</td>\n",
       "      <td>216.041046</td>\n",
       "      <td>7058500</td>\n",
       "      <td>0.007586</td>\n",
       "      <td>220.360367</td>\n",
       "      <td>0.029776</td>\n",
       "      <td>0.011715</td>\n",
       "      <td>-0.007239</td>\n",
       "      <td>-0.016024</td>\n",
       "      <td>1</td>\n",
       "    </tr>\n",
       "    <tr>\n",
       "      <th>8</th>\n",
       "      <td>2009-06-04</td>\n",
       "      <td>217.867874</td>\n",
       "      <td>220.840836</td>\n",
       "      <td>217.467468</td>\n",
       "      <td>220.360367</td>\n",
       "      <td>220.360367</td>\n",
       "      <td>7268900</td>\n",
       "      <td>0.019993</td>\n",
       "      <td>222.382385</td>\n",
       "      <td>0.029776</td>\n",
       "      <td>0.011715</td>\n",
       "      <td>-0.007239</td>\n",
       "      <td>-0.016024</td>\n",
       "      <td>1</td>\n",
       "    </tr>\n",
       "    <tr>\n",
       "      <th>9</th>\n",
       "      <td>2009-06-05</td>\n",
       "      <td>222.757751</td>\n",
       "      <td>223.893890</td>\n",
       "      <td>219.949951</td>\n",
       "      <td>222.382385</td>\n",
       "      <td>222.382385</td>\n",
       "      <td>7354200</td>\n",
       "      <td>0.009176</td>\n",
       "      <td>219.604599</td>\n",
       "      <td>0.029776</td>\n",
       "      <td>0.011715</td>\n",
       "      <td>-0.007239</td>\n",
       "      <td>-0.016024</td>\n",
       "      <td>0</td>\n",
       "    </tr>\n",
       "    <tr>\n",
       "      <th>10</th>\n",
       "      <td>2009-06-08</td>\n",
       "      <td>219.969971</td>\n",
       "      <td>220.680679</td>\n",
       "      <td>217.277283</td>\n",
       "      <td>219.604599</td>\n",
       "      <td>219.604599</td>\n",
       "      <td>6191200</td>\n",
       "      <td>-0.012491</td>\n",
       "      <td>218.028030</td>\n",
       "      <td>0.029776</td>\n",
       "      <td>0.011715</td>\n",
       "      <td>-0.007239</td>\n",
       "      <td>-0.016024</td>\n",
       "      <td>0</td>\n",
       "    </tr>\n",
       "  </tbody>\n",
       "</table>\n",
       "</div>"
      ],
      "text/plain": [
       "          Date        Open        High         Low       Close   Adj Close  \\\n",
       "1   2009-05-26  196.171173  202.702698  195.195190  202.382385  202.382385   \n",
       "2   2009-05-27  203.023026  206.136139  202.607605  202.982986  202.982986   \n",
       "3   2009-05-28  204.544540  206.016022  202.507507  205.405411  205.405411   \n",
       "4   2009-05-29  206.261261  208.823822  205.555557  208.823822  208.823822   \n",
       "5   2009-06-01  209.574570  215.015015  209.474472  213.493500  213.493500   \n",
       "6   2009-06-02  213.338333  215.195190  211.911911  214.414413  214.414413   \n",
       "7   2009-06-03  213.213211  216.446442  212.212219  216.041046  216.041046   \n",
       "8   2009-06-04  217.867874  220.840836  217.467468  220.360367  220.360367   \n",
       "9   2009-06-05  222.757751  223.893890  219.949951  222.382385  222.382385   \n",
       "10  2009-06-08  219.969971  220.680679  217.277283  219.604599  219.604599   \n",
       "\n",
       "     Volume  Percentage change in price  1_day_close  google_1_day_autocorr  \\\n",
       "1   6202700                    0.027598   202.982986               0.029776   \n",
       "2   6062500                    0.002968   205.405411               0.029776   \n",
       "3   5332200                    0.011934   208.823822               0.029776   \n",
       "4   5291100                    0.016642   213.493500               0.029776   \n",
       "5   6638100                    0.022362   214.414413               0.029776   \n",
       "6   5241900                    0.004314   216.041046               0.029776   \n",
       "7   7058500                    0.007586   220.360367               0.029776   \n",
       "8   7268900                    0.019993   222.382385               0.029776   \n",
       "9   7354200                    0.009176   219.604599               0.029776   \n",
       "10  6191200                   -0.012491   218.028030               0.029776   \n",
       "\n",
       "    google_10_day_autocorr  google_30_day_autocorr  google_90_day_autocorr  \\\n",
       "1                 0.011715               -0.007239               -0.016024   \n",
       "2                 0.011715               -0.007239               -0.016024   \n",
       "3                 0.011715               -0.007239               -0.016024   \n",
       "4                 0.011715               -0.007239               -0.016024   \n",
       "5                 0.011715               -0.007239               -0.016024   \n",
       "6                 0.011715               -0.007239               -0.016024   \n",
       "7                 0.011715               -0.007239               -0.016024   \n",
       "8                 0.011715               -0.007239               -0.016024   \n",
       "9                 0.011715               -0.007239               -0.016024   \n",
       "10                0.011715               -0.007239               -0.016024   \n",
       "\n",
       "    Price Up Tomorrow  \n",
       "1                   1  \n",
       "2                   1  \n",
       "3                   1  \n",
       "4                   1  \n",
       "5                   1  \n",
       "6                   1  \n",
       "7                   1  \n",
       "8                   1  \n",
       "9                   0  \n",
       "10                  0  "
      ]
     },
     "execution_count": 189,
     "metadata": {},
     "output_type": "execute_result"
    }
   ],
   "source": [
    "google.head(10) #verification tags have been computed correctly"
   ]
  },
  {
   "cell_type": "code",
   "execution_count": 190,
   "metadata": {},
   "outputs": [],
   "source": [
    "TRAIN_SPLIT = 1684"
   ]
  },
  {
   "cell_type": "code",
   "execution_count": 191,
   "metadata": {},
   "outputs": [],
   "source": [
    "tf.random.set_seed(13)"
   ]
  },
  {
   "cell_type": "code",
   "execution_count": 192,
   "metadata": {},
   "outputs": [
    {
     "data": {
      "text/plain": [
       "Date\n",
       "2009-05-26    0.027598\n",
       "2009-05-27    0.002968\n",
       "2009-05-28    0.011934\n",
       "2009-05-29    0.016642\n",
       "2009-06-01    0.022362\n",
       "Name: Percentage change in price, dtype: float64"
      ]
     },
     "execution_count": 192,
     "metadata": {},
     "output_type": "execute_result"
    }
   ],
   "source": [
    "uni_data = google['Percentage change in price']\n",
    "uni_data.index = google['Date']\n",
    "uni_data.head()"
   ]
  },
  {
   "cell_type": "code",
   "execution_count": 193,
   "metadata": {},
   "outputs": [
    {
     "data": {
      "text/plain": [
       "Text(0.5, 1.0, 'Google 1 Day Price Movement')"
      ]
     },
     "execution_count": 193,
     "metadata": {},
     "output_type": "execute_result"
    },
    {
     "data": {
      "image/png": "[encoded data removed]",
      "text/plain": [
       "<Figure size 432x288 with 1 Axes>"
      ]
     },
     "metadata": {
      "needs_background": "light"
     },
     "output_type": "display_data"
    }
   ],
   "source": [
    "uni_data.plot(subplots=True)\n",
    "plt.title('Google 1 Day Price Movement')"
   ]
  },
  {
   "cell_type": "code",
   "execution_count": 194,
   "metadata": {},
   "outputs": [],
   "source": [
    "uni_data = uni_data.values"
   ]
  },
  {
   "cell_type": "code",
   "execution_count": 195,
   "metadata": {},
   "outputs": [],
   "source": [
    "uni_train_mean = uni_data[:TRAIN_SPLIT].mean()\n",
    "uni_train_std = uni_data[:TRAIN_SPLIT].std()"
   ]
  },
  {
   "cell_type": "code",
   "execution_count": 196,
   "metadata": {},
   "outputs": [],
   "source": [
    "uni_data = (uni_data-uni_train_mean)/uni_train_std"
   ]
  },
  {
   "cell_type": "code",
   "execution_count": 197,
   "metadata": {},
   "outputs": [],
   "source": [
    "univariate_past_history = 30\n",
    "univariate_future_target = 0\n",
    "\n",
    "x_train_uni, y_train_uni = univariate_data(uni_data, 0, TRAIN_SPLIT,\n",
    "                                           univariate_past_history,\n",
    "                                           univariate_future_target)\n",
    "x_val_uni, y_val_uni = univariate_data(uni_data, TRAIN_SPLIT, None,\n",
    "                                       univariate_past_history,\n",
    "                                       univariate_future_target)"
   ]
  },
  {
   "cell_type": "code",
   "execution_count": 198,
   "metadata": {},
   "outputs": [],
   "source": [
    "BATCH_SIZE = 32\n",
    "\n",
    "\n",
    "train_univariate = tf.data.Dataset.from_tensor_slices((x_train_uni, y_train_uni))\n",
    "train_univariate = train_univariate.cache().shuffle(TRAIN_SPLIT).batch(BATCH_SIZE).repeat()\n",
    "\n",
    "val_univariate = tf.data.Dataset.from_tensor_slices((x_val_uni, y_val_uni))\n",
    "val_univariate = val_univariate.batch(BATCH_SIZE).repeat()"
   ]
  },
  {
   "cell_type": "code",
   "execution_count": 199,
   "metadata": {},
   "outputs": [],
   "source": [
    "google_lstm_model = tf.keras.models.Sequential([\n",
    "    tf.keras.layers.LSTM(8, input_shape=x_train_uni.shape[-2:]),\n",
    "    tf.keras.layers.Dense(1)\n",
    "])\n",
    "google_lstm_model.add(tf.keras.layers.Dropout(0.2))\n",
    "google_lstm_model.add(tf.keras.layers.Activation('linear'))\n",
    "\n",
    "google_lstm_model.compile(optimizer='adam', loss='mape')"
   ]
  },
  {
   "cell_type": "code",
   "execution_count": 200,
   "metadata": {},
   "outputs": [
    {
     "name": "stdout",
     "output_type": "stream",
     "text": [
      "Epoch 1/10\n",
      "500/500 [==============================] - 4s 9ms/step - loss: 110.6274 - val_loss: 100.4667\n",
      "Epoch 2/10\n",
      "500/500 [==============================] - 4s 8ms/step - loss: 104.7459 - val_loss: 100.3614\n",
      "Epoch 3/10\n",
      "500/500 [==============================] - 4s 9ms/step - loss: 106.0939 - val_loss: 99.6661\n",
      "Epoch 4/10\n",
      "500/500 [==============================] - 5s 9ms/step - loss: 103.7951 - val_loss: 100.0609\n",
      "Epoch 5/10\n",
      "500/500 [==============================] - 5s 9ms/step - loss: 103.3003 - val_loss: 100.2661\n",
      "Epoch 6/10\n",
      "500/500 [==============================] - 5s 9ms/step - loss: 103.2934 - val_loss: 99.7032\n",
      "Epoch 7/10\n",
      "500/500 [==============================] - 5s 10ms/step - loss: 102.3232 - val_loss: 100.6764\n",
      "Epoch 8/10\n",
      "500/500 [==============================] - 5s 10ms/step - loss: 102.6933 - val_loss: 100.6438\n",
      "Epoch 9/10\n",
      "500/500 [==============================] - 5s 10ms/step - loss: 103.3962 - val_loss: 100.0536\n",
      "Epoch 10/10\n",
      "500/500 [==============================] - 6s 11ms/step - loss: 101.8017 - val_loss: 99.6159\n"
     ]
    },
    {
     "data": {
      "text/plain": [
       "<tensorflow.python.keras.callbacks.History at 0x7fd787dca050>"
      ]
     },
     "execution_count": 200,
     "metadata": {},
     "output_type": "execute_result"
    }
   ],
   "source": [
    "google_lstm_model.fit(train_univariate, epochs=10,\n",
    "                      steps_per_epoch=500,\n",
    "                      validation_data=val_univariate, validation_steps=50)"
   ]
  },
  {
   "cell_type": "code",
   "execution_count": 201,
   "metadata": {},
   "outputs": [
    {
     "name": "stdout",
     "output_type": "stream",
     "text": [
      "Google data MAPE: 100.15140914916992\n"
     ]
    }
   ],
   "source": [
    "print(f'Google data MAPE: {model_mape(google_lstm_model)}')"
   ]
  },
  {
   "cell_type": "code",
   "execution_count": 202,
   "metadata": {},
   "outputs": [
    {
     "data": {
      "image/png": "[encoded data removed]",
      "text/plain": [
       "<Figure size 432x288 with 1 Axes>"
      ]
     },
     "metadata": {
      "needs_background": "light"
     },
     "output_type": "display_data"
    },
    {
     "data": {
      "image/png": "[encoded data removed]",
      "text/plain": [
       "<Figure size 432x288 with 1 Axes>"
      ]
     },
     "metadata": {
      "needs_background": "light"
     },
     "output_type": "display_data"
    },
    {
     "data": {
      "image/png": "[encoded data removed]",
      "text/plain": [
       "<Figure size 432x288 with 1 Axes>"
      ]
     },
     "metadata": {
      "needs_background": "light"
     },
     "output_type": "display_data"
    }
   ],
   "source": [
    "prediction_attempt(google_lstm_model, 'Google Price Prediction RNN', val_univariate)"
   ]
  },
  {
   "cell_type": "code",
   "execution_count": 203,
   "metadata": {},
   "outputs": [],
   "source": [
    "x = google[['Open', 'High','Low','Close', 'Volume']]\n",
    "y = google['Price Up Tomorrow']\n",
    "\n",
    "x_train, x_test, y_train, y_test = train_test_split(x, y, train_size=0.75, shuffle=True)"
   ]
  },
  {
   "cell_type": "code",
   "execution_count": 204,
   "metadata": {},
   "outputs": [
    {
     "data": {
      "text/plain": [
       "count     2333\n",
       "unique       2\n",
       "top       True\n",
       "freq      1226\n",
       "Name: Price Up Tomorrow, dtype: object"
      ]
     },
     "execution_count": 204,
     "metadata": {},
     "output_type": "execute_result"
    }
   ],
   "source": [
    "(google['Price Up Tomorrow']==1).describe()"
   ]
  },
  {
   "cell_type": "code",
   "execution_count": 205,
   "metadata": {},
   "outputs": [],
   "source": [
    "scaler = StandardScaler() \n",
    "x_train = scaler.fit_transform(x_train)\n",
    "x_test = scaler.transform(x_test)"
   ]
  },
  {
   "cell_type": "code",
   "execution_count": 206,
   "metadata": {},
   "outputs": [],
   "source": [
    "neural_model = MLPClassifier(solver='adam', alpha=0.0001, hidden_layer_sizes=(5,2))"
   ]
  },
  {
   "cell_type": "code",
   "execution_count": 207,
   "metadata": {},
   "outputs": [
    {
     "name": "stdout",
     "output_type": "stream",
     "text": [
      "Model accuracy: 0.505431675242996\n"
     ]
    }
   ],
   "source": [
    "neural_model.fit(x_train, y_train)\n",
    "print(f'Model accuracy: {neural_model.score(x_train, y_train)}')"
   ]
  },
  {
   "cell_type": "code",
   "execution_count": 208,
   "metadata": {},
   "outputs": [],
   "source": [
    "neural_predict = neural_model.predict(x_test)"
   ]
  },
  {
   "cell_type": "code",
   "execution_count": 209,
   "metadata": {},
   "outputs": [
    {
     "name": "stdout",
     "output_type": "stream",
     "text": [
      "Google classification model accuracy is: 0.505431675242996\n",
      "Google classification f1 score is: 0.40480961923847697\n",
      "Google classification precision is: 0.4975369458128079\n",
      "Google classification recall is: 0.34121621621621623\n"
     ]
    }
   ],
   "source": [
    "print(f'Google classification model accuracy is: {neural_model.score(x_train, y_train)}')\n",
    "print(f'Google classification f1 score is: {f1_score(y_test, neural_predict)}')\n",
    "print(f'Google classification precision is: {precision_score(y_test, neural_predict)}')\n",
    "print(f'Google classification recall is: {recall_score(y_test, neural_predict)}')"
   ]
  },
  {
   "cell_type": "code",
   "execution_count": 210,
   "metadata": {},
   "outputs": [
    {
     "data": {
      "image/png": "[encoded data removed]",
      "text/plain": [
       "<Figure size 648x648 with 1 Axes>"
      ]
     },
     "metadata": {
      "needs_background": "light"
     },
     "output_type": "display_data"
    }
   ],
   "source": [
    "neural_matrix = confusion_matrix(y_test,neural_predict)\n",
    "\n",
    "plt.subplots(figsize=(9, 9))\n",
    "sns.heatmap(neural_matrix, annot=True, cbar=False, cmap='YlGnBu',linewidth=1,fmt=\"d\")\n",
    "plt.ylabel('Actual Value')\n",
    "plt.xlabel('Predicted Value')\n",
    "plt.title('Confusion Matrix for Google');"
   ]
  },
  {
   "cell_type": "markdown",
   "metadata": {},
   "source": [
    "Conclusion: None of the models have any predicitve power. We have found no evidence against the EMH."
   ]
  },
  {
   "cell_type": "code",
   "execution_count": null,
   "metadata": {},
   "outputs": [],
   "source": []
  }
 ],
 "metadata": {
  "kernelspec": {
   "display_name": "Python 3",
   "language": "python",
   "name": "python3"
  },
  "language_info": {
   "codemirror_mode": {
    "name": "ipython",
    "version": 3
   },
   "file_extension": ".py",
   "mimetype": "text/x-python",
   "name": "python",
   "nbconvert_exporter": "python",
   "pygments_lexer": "ipython3",
   "version": "3.7.6"
  }
 },
 "nbformat": 4,
 "nbformat_minor": 4
}
